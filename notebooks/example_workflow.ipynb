{
 "cells": [
  {
   "cell_type": "markdown",
   "metadata": {},
   "source": [
    "# Academic Stress Analysis - Complete Workflow\n",
    "\n",
    "This notebook demonstrates the complete analysis workflow for studying meditation's impact on academic stress in undergraduate students.\n",
    "\n",
    "## Contents\n",
    "1. Data Preprocessing\n",
    "2. Causal Inference Analysis\n",
    "3. Item Response Theory\n",
    "4. Classification & Clustering\n",
    "5. NLP Analysis (Optional)\n",
    "6. Summary and Insights"
   ]
  },
  {
   "cell_type": "code",
   "execution_count": null,
   "metadata": {},
   "outputs": [],
   "source": [
    "# Import required libraries\n",
    "import sys\n",
    "sys.path.append('../scripts')\n",
    "\n",
    "import pandas as pd\n",
    "import numpy as np\n",
    "import matplotlib.pyplot as plt\n",
    "import seaborn as sns\n",
    "\n",
    "# Import analysis modules\n",
    "from data_preprocessing import StressDataPreprocessor\n",
    "from causal_inference import CausalInferenceAnalyzer\n",
    "from irt_analysis import IRTAnalyzer\n",
    "from classification_clustering import StressClassifier, StressClusterer\n",
    "from nlp_analysis import TextAnalyzer\n",
    "\n",
    "# Set plot style\n",
    "sns.set_style('whitegrid')\n",
    "plt.rcParams['figure.figsize'] = (12, 6)\n",
    "\n",
    "print(\"Libraries imported successfully!\")"
   ]
  },
  {
   "cell_type": "markdown",
   "metadata": {},
   "source": [
    "## 1. Data Preprocessing\n",
    "\n",
    "Load and preprocess the survey data."
   ]
  },
  {
   "cell_type": "code",
   "execution_count": null,
   "metadata": {},
   "outputs": [],
   "source": [
    "# Initialize preprocessor\n",
    "preprocessor = StressDataPreprocessor()\n",
    "\n",
    "# Load data (will generate sample data if file doesn't exist)\n",
    "data_path = '../data/raw/stress_survey_data.csv'\n",
    "data = preprocessor.load_data(data_path)\n",
    "\n",
    "# Display first few rows\n",
    "data.head()"
   ]
  },
  {
   "cell_type": "code",
   "execution_count": null,
   "metadata": {},
   "outputs": [],
   "source": [
    "# Get summary statistics\n",
    "preprocessor.get_summary_statistics()"
   ]
  },
  {
   "cell_type": "code",
   "execution_count": null,
   "metadata": {},
   "outputs": [],
   "source": [
    "# Run preprocessing pipeline\n",
    "processed_data, feature_groups = preprocessor.preprocess_pipeline(\n",
    "    scale=True,\n",
    "    create_derived=True\n",
    ")\n",
    "\n",
    "# Save processed data\n",
    "preprocessor.save_processed_data('../data/processed/stress_data_processed.csv')"
   ]
  },
  {
   "cell_type": "markdown",
   "metadata": {},
   "source": [
    "## 2. Causal Inference Analysis\n",
    "\n",
    "Estimate the causal effect of meditation on academic stress."
   ]
  },
  {
   "cell_type": "code",
   "execution_count": null,
   "metadata": {},
   "outputs": [],
   "source": [
    "# Initialize causal inference analyzer\n",
    "causal_analyzer = CausalInferenceAnalyzer()\n",
    "causal_analyzer.load_data('../data/processed/stress_data_processed.csv')\n",
    "\n",
    "# Prepare data\n",
    "T, Y, X, feature_names = causal_analyzer.prepare_data_for_causal_inference(\n",
    "    treatment_col='meditation_practice',\n",
    "    outcome_col='stress_score'\n",
    ")"
   ]
  },
  {
   "cell_type": "code",
   "execution_count": null,
   "metadata": {},
   "outputs": [],
   "source": [
    "# Estimate treatment effects\n",
    "naive_ate = causal_analyzer.estimate_ate_naive(T, Y)\n",
    "cf_ate = causal_analyzer.causal_forest_ate(T, Y, X)\n",
    "dml_ate = causal_analyzer.double_ml_ate(T, Y, X)"
   ]
  },
  {
   "cell_type": "code",
   "execution_count": null,
   "metadata": {},
   "outputs": [],
   "source": [
    "# Estimate heterogeneous effects\n",
    "cate = causal_analyzer.estimate_cate(T, Y, X, feature_names)\n",
    "\n",
    "# Generate plots\n",
    "causal_analyzer.plot_results()\n",
    "\n",
    "# Display comprehensive report\n",
    "causal_analyzer.generate_report()"
   ]
  },
  {
   "cell_type": "markdown",
   "metadata": {},
   "source": [
    "## 3. Item Response Theory Analysis\n",
    "\n",
    "Analyze stress assessment items using IRT."
   ]
  },
  {
   "cell_type": "code",
   "execution_count": null,
   "metadata": {},
   "outputs": [],
   "source": [
    "# Initialize IRT analyzer\n",
    "irt_analyzer = IRTAnalyzer()\n",
    "irt_analyzer.load_data('../data/processed/stress_data_processed.csv')\n",
    "\n",
    "# Generate stress items\n",
    "item_cols = irt_analyzer.generate_stress_items(n_items=10)"
   ]
  },
  {
   "cell_type": "code",
   "execution_count": null,
   "metadata": {},
   "outputs": [],
   "source": [
    "# Calculate item statistics\n",
    "stats = irt_analyzer.calculate_item_statistics(item_cols)\n",
    "stats"
   ]
  },
  {
   "cell_type": "code",
   "execution_count": null,
   "metadata": {},
   "outputs": [],
   "source": [
    "# Calculate reliability\n",
    "alpha = irt_analyzer.calculate_cronbach_alpha(item_cols)\n",
    "print(f\"\\nCronbach's Alpha: {alpha:.3f}\")"
   ]
  },
  {
   "cell_type": "code",
   "execution_count": null,
   "metadata": {},
   "outputs": [],
   "source": [
    "# Fit IRT model\n",
    "theta = irt_analyzer.estimate_theta_simple(item_cols)\n",
    "item_params = irt_analyzer.fit_graded_response_model(item_cols)\n",
    "\n",
    "# Generate visualizations\n",
    "irt_analyzer.plot_item_characteristic_curves(item_cols)\n",
    "irt_analyzer.plot_test_information(item_cols)\n",
    "irt_analyzer.plot_person_item_map(item_cols)"
   ]
  },
  {
   "cell_type": "markdown",
   "metadata": {},
   "source": [
    "## 4. Classification & Clustering Analysis\n",
    "\n",
    "### Classification: Predict Stress Levels"
   ]
  },
  {
   "cell_type": "code",
   "execution_count": null,
   "metadata": {},
   "outputs": [],
   "source": [
    "# Initialize classifier\n",
    "classifier = StressClassifier()\n",
    "classifier.load_data('../data/processed/stress_data_processed.csv')\n",
    "\n",
    "# Create stress categories\n",
    "classifier.create_stress_categories(method='tertiles')\n",
    "\n",
    "# Prepare features\n",
    "X, y, feature_names = classifier.prepare_features()"
   ]
  },
  {
   "cell_type": "code",
   "execution_count": null,
   "metadata": {},
   "outputs": [],
   "source": [
    "# Train models\n",
    "models, results = classifier.train_models(X, y)\n",
    "\n",
    "# Get feature importance\n",
    "classifier.get_feature_importance(feature_names, top_n=10)\n",
    "\n",
    "# Generate visualizations\n",
    "classifier.plot_confusion_matrices()\n",
    "classifier.plot_model_comparison()"
   ]
  },
  {
   "cell_type": "markdown",
   "metadata": {},
   "source": [
    "### Clustering: Identify Student Subgroups"
   ]
  },
  {
   "cell_type": "code",
   "execution_count": null,
   "metadata": {},
   "outputs": [],
   "source": [
    "# Initialize clusterer\n",
    "clusterer = StressClusterer()\n",
    "clusterer.load_data('../data/processed/stress_data_processed.csv')\n",
    "\n",
    "# Prepare features\n",
    "X_cluster, cluster_features = clusterer.prepare_features(scale=True)"
   ]
  },
  {
   "cell_type": "code",
   "execution_count": null,
   "metadata": {},
   "outputs": [],
   "source": [
    "# Find optimal number of clusters\n",
    "inertias, silhouette_scores = clusterer.find_optimal_k(X_cluster)\n",
    "\n",
    "# Plot elbow curve\n",
    "clusterer.plot_elbow_curve()"
   ]
  },
  {
   "cell_type": "code",
   "execution_count": null,
   "metadata": {},
   "outputs": [],
   "source": [
    "# Fit clustering models\n",
    "kmeans_labels = clusterer.fit_kmeans(X_cluster, n_clusters=3)\n",
    "hierarchical_labels = clusterer.fit_hierarchical(X_cluster, n_clusters=3)\n",
    "\n",
    "# Characterize clusters\n",
    "cluster_profiles = clusterer.characterize_clusters(method='kmeans')\n",
    "\n",
    "# Visualize clusters\n",
    "clusterer.plot_clusters_pca(X_cluster, method='kmeans')"
   ]
  },
  {
   "cell_type": "markdown",
   "metadata": {},
   "source": [
    "## 5. NLP Analysis (Optional)\n",
    "\n",
    "Analyze open-ended text responses."
   ]
  },
  {
   "cell_type": "code",
   "execution_count": null,
   "metadata": {},
   "outputs": [],
   "source": [
    "# Initialize text analyzer\n",
    "text_analyzer = TextAnalyzer()\n",
    "text_analyzer.load_data('../data/processed/stress_data_processed.csv')\n",
    "\n",
    "# Generate sample responses (in practice, use actual survey data)\n",
    "text_analyzer.generate_sample_responses()"
   ]
  },
  {
   "cell_type": "code",
   "execution_count": null,
   "metadata": {},
   "outputs": [],
   "source": [
    "# Preprocess text\n",
    "text_analyzer.basic_text_preprocessing()\n",
    "text_analyzer.calculate_text_length()\n",
    "\n",
    "# Sentiment analysis\n",
    "sentiments, scores = text_analyzer.simple_sentiment_analysis()\n",
    "\n",
    "# Extract keywords\n",
    "keywords = text_analyzer.extract_keywords(top_n=20)"
   ]
  },
  {
   "cell_type": "code",
   "execution_count": null,
   "metadata": {},
   "outputs": [],
   "source": [
    "# Analyze by groups\n",
    "text_analyzer.analyze_by_stress_level()\n",
    "text_analyzer.analyze_meditation_effects()\n",
    "\n",
    "# Generate visualizations\n",
    "text_analyzer.plot_sentiment_analysis()\n",
    "text_analyzer.plot_word_frequency(top_n=15)"
   ]
  },
  {
   "cell_type": "markdown",
   "metadata": {},
   "source": [
    "## 6. Summary and Key Insights\n",
    "\n",
    "### Causal Effects\n",
    "- Review the estimated treatment effects from different methods\n",
    "- Interpret negative values as stress reduction\n",
    "- Consider heterogeneous effects (CATE)\n",
    "\n",
    "### Psychometric Properties\n",
    "- Cronbach's Alpha indicates reliability of stress measure\n",
    "- IRT analysis shows which items best discriminate stress levels\n",
    "- Person parameters (theta) represent latent stress trait\n",
    "\n",
    "### Predictive Models\n",
    "- Best classification model and its accuracy\n",
    "- Most important features for predicting stress\n",
    "- Early identification potential\n",
    "\n",
    "### Student Subgroups\n",
    "- Distinct clusters identified\n",
    "- Characteristics of each subgroup\n",
    "- Implications for targeted interventions\n",
    "\n",
    "### Text Analysis\n",
    "- Common themes in student responses\n",
    "- Sentiment patterns by stress level and meditation practice\n",
    "- Qualitative insights complementing quantitative findings"
   ]
  },
  {
   "cell_type": "code",
   "execution_count": null,
   "metadata": {},
   "outputs": [],
   "source": [
    "# Create a summary dataframe of key results\n",
    "summary = pd.DataFrame({\n",
    "    'Analysis': ['Causal Inference', 'IRT', 'Classification', 'Clustering', 'NLP'],\n",
    "    'Key Finding': [\n",
    "        f'ATE: {dml_ate:.3f}',\n",
    "        f'Cronbach Alpha: {alpha:.3f}',\n",
    "        f'Best Accuracy: {classifier.results[classifier.best_model][\"accuracy\"]:.3f}',\n",
    "        f'{len(np.unique(kmeans_labels))} clusters identified',\n",
    "        'Sentiment patterns analyzed'\n",
    "    ],\n",
    "    'Status': ['✓', '✓', '✓', '✓', '✓']\n",
    "})\n",
    "\n",
    "print(\"\\n\" + \"=\"*60)\n",
    "print(\"ANALYSIS SUMMARY\")\n",
    "print(\"=\"*60)\n",
    "print(summary.to_string(index=False))\n",
    "print(\"=\"*60)"
   ]
  },
  {
   "cell_type": "markdown",
   "metadata": {},
   "source": [
    "## Next Steps\n",
    "\n",
    "1. **Validate findings** with domain experts\n",
    "2. **Test robustness** with sensitivity analyses\n",
    "3. **Design interventions** based on identified subgroups\n",
    "4. **Implement monitoring** using predictive models\n",
    "5. **Collect additional data** for longitudinal analysis\n",
    "\n",
    "---\n",
    "\n",
    "*Note: This analysis is for research purposes. Consult mental health professionals for actual student wellness interventions.*"
   ]
  }
 ],
 "metadata": {
  "kernelspec": {
   "display_name": "Python 3",
   "language": "python",
   "name": "python3"
  },
  "language_info": {
   "codemirror_mode": {
    "name": "ipython",
    "version": 3
   },
   "file_extension": ".py",
   "mimetype": "text/x-python",
   "name": "python",
   "nbconvert_exporter": "python",
   "pygments_lexer": "ipython3",
   "version": "3.8.0"
  }
 },
 "nbformat": 4,
 "nbformat_minor": 4
}
