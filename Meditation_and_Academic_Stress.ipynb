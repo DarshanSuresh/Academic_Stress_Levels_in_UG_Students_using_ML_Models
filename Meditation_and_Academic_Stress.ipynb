{
  "nbformat": 4,
  "nbformat_minor": 0,
  "metadata": {
    "colab": {
      "provenance": [],
      "collapsed_sections": [
        "xsmaPMIdbOo5",
        "Dx8vTxrCb5s3",
        "8IZ838dRbVf7",
        "U7HDnOUsbZIN"
      ],
      "include_colab_link": true
    },
    "kernelspec": {
      "name": "python3",
      "display_name": "Python 3"
    },
    "language_info": {
      "name": "python"
    }
  },
  "cells": [
    {
      "cell_type": "markdown",
      "metadata": {
        "id": "view-in-github",
        "colab_type": "text"
      },
      "source": [
        "<a href=\"https://colab.research.google.com/github/DarshanSuresh/Academic_Stress_Levels_in_UG_Students_using_ML_Models/blob/main/Meditation_and_Academic_Stress.ipynb\" target=\"_parent\"><img src=\"https://colab.research.google.com/assets/colab-badge.svg\" alt=\"Open In Colab\"/></a>"
      ]
    },
    {
      "cell_type": "markdown",
      "source": [
        "## Pre vs Post Meditation Stress Comparison"
      ],
      "metadata": {
        "id": "k9PAv4n9k4td"
      }
    },
    {
      "cell_type": "code",
      "source": [
        "# Pre vs Post Meditation Stress Comparison\n",
        "\n",
        "import pandas as pd\n",
        "import numpy as np\n",
        "import matplotlib.pyplot as plt\n",
        "import seaborn as sns\n",
        "import warnings\n",
        "warnings.filterwarnings(\"ignore\")"
      ],
      "metadata": {
        "id": "o4tH1yLuk9xJ"
      },
      "execution_count": 2,
      "outputs": []
    },
    {
      "cell_type": "code",
      "source": [
        "# Step 1: Load the CSV File\n",
        "file_path = \"/content/merge.csv\"\n",
        "#df = pd.read_csv(file_path, encoding='utf-8', on_bad_lines='skip')\n",
        "df = pd.read_csv(file_path, skiprows=3, encoding='utf-8', on_bad_lines='skip')\n",
        "\n",
        "# Step 2: Select Relevant Columns\n",
        "cols = [\n",
        "    \"A. Enter your Gender\",\n",
        "    \"B. Frequency of Meditation:\",\n",
        "    \"PRE1. I feel stressed about academic deadlines and exams.\",\n",
        "    \"POST1. I feel stressed about academic deadlines and exams.\"\n",
        "]\n",
        "data = df[cols].copy()\n",
        "\n",
        "# Step 3: Clean the Data\n",
        "data = data.dropna()\n",
        "data.rename(columns={\n",
        "    \"B. Frequency of Meditation:\": \"Meditation_Frequency\",\n",
        "    \"PRE1. I feel stressed about academic deadlines and exams.\": \"Stress_Pre\",\n",
        "    \"POST1. I feel stressed about academic deadlines and exams.\": \"Stress_Post\"\n",
        "}, inplace=True)\n",
        "\n",
        "# Step 4: Encode Stress Levels (if they are Likert-scale words)\n",
        "# Example: “Strongly Agree” = 5, “Agree” = 4, “Neutral” = 3, etc.\n",
        "mapping = {\n",
        "    \"Strongly Agree\": 5,\n",
        "    \"Agree\": 4,\n",
        "    \"Neutral\": 3,\n",
        "    \"Disagree\": 2,\n",
        "    \"Strongly Disagree\": 1\n",
        "}\n",
        "\n",
        "data[\"Stress_Pre\"] = data[\"Stress_Pre\"].replace(mapping)\n",
        "data[\"Stress_Post\"] = data[\"Stress_Post\"].replace(mapping)\n",
        "\n",
        "# Step 5: Compute Average Reduction in Stress\n",
        "data[\"Stress_Change\"] = data[\"Stress_Post\"] - data[\"Stress_Pre\"]\n",
        "avg_change = data[\"Stress_Change\"].mean()\n",
        "\n",
        "print(\"🔹 Average Stress Change (Post - Pre):\", round(avg_change, 2))\n",
        "if avg_change < 0:\n",
        "    print(\"🧘 Meditation seems to reduce stress on average.\")\n",
        "elif avg_change > 0:\n",
        "    print(\"⚠️ Stress increased slightly post meditation.\")\n",
        "else:\n",
        "    print(\"ℹ️ No significant change in stress levels observed.\")"
      ],
      "metadata": {
        "id": "eqVbeiA3izGY",
        "outputId": "be6ddbdb-e4f7-435e-e059-eb78026da76f",
        "colab": {
          "base_uri": "https://localhost:8080/"
        }
      },
      "execution_count": 3,
      "outputs": [
        {
          "output_type": "stream",
          "name": "stdout",
          "text": [
            "🔹 Average Stress Change (Post - Pre): -0.31\n",
            "🧘 Meditation seems to reduce stress on average.\n"
          ]
        }
      ]
    },
    {
      "cell_type": "markdown",
      "source": [
        "### Comment"
      ],
      "metadata": {
        "id": "6NyfJ3mYbyyI"
      }
    },
    {
      "cell_type": "markdown",
      "source": [
        "#### Trail 01"
      ],
      "metadata": {
        "id": "X9Ek8a4db02c"
      }
    },
    {
      "cell_type": "markdown",
      "source": [
        "🔹 Average Stress Change (Post - Pre): -0.31\n",
        "🧘 Meditation seems to reduce stress on average."
      ],
      "metadata": {
        "id": "EgSQAGRybtRB"
      }
    },
    {
      "cell_type": "code",
      "source": [
        "# Visualization — Before vs After Meditation\n",
        "plt.figure(figsize=(8,5))\n",
        "sns.boxplot(data=pd.melt(data[[\"Stress_Pre\", \"Stress_Post\"]], var_name=\"Phase\", value_name=\"Stress Level\"),\n",
        "            x=\"Phase\", y=\"Stress Level\", palette=\"coolwarm\")\n",
        "plt.title(\"Stress Levels Before and After Meditation\")\n",
        "plt.show()\n"
      ],
      "metadata": {
        "colab": {
          "base_uri": "https://localhost:8080/",
          "height": 487
        },
        "id": "LF0wEBPJlIkS",
        "outputId": "2e23bea7-3da7-44ea-dd18-b305f46dfa0c"
      },
      "execution_count": 4,
      "outputs": [
        {
          "output_type": "display_data",
          "data": {
            "text/plain": [
              "<Figure size 800x500 with 1 Axes>"
            ],
            "image/png": "[encoded data removed]"
          },
          "metadata": {}
        }
      ]
    },
    {
      "cell_type": "code",
      "source": [
        "# Step 7: Visualization — Stress Reduction by Meditation Frequency\n",
        "plt.figure(figsize=(8,5))\n",
        "sns.barplot(data=data, x=\"Meditation_Frequency\", y=\"Stress_Change\", palette=\"crest\")\n",
        "plt.xticks(rotation=20)\n",
        "plt.title(\"Average Stress Change by Meditation Frequency\")\n",
        "plt.ylabel(\"Stress Change (Post - Pre)\")\n",
        "plt.xlabel(\"Meditation Frequency\")\n",
        "plt.grid(True)\n",
        "plt.show()\n"
      ],
      "metadata": {
        "colab": {
          "base_uri": "https://localhost:8080/",
          "height": 521
        },
        "id": "BtsrRU75lNhd",
        "outputId": "24f1551d-2e9c-4eac-b358-3be488eaccae"
      },
      "execution_count": 5,
      "outputs": [
        {
          "output_type": "display_data",
          "data": {
            "text/plain": [
              "<Figure size 800x500 with 1 Axes>"
            ],
            "image/png": "[encoded data removed]"
          },
          "metadata": {}
        }
      ]
    },
    {
      "cell_type": "code",
      "source": [
        "# Step 8: Insight Summary\n",
        "pre_mean = data[\"Stress_Pre\"].mean()\n",
        "post_mean = data[\"Stress_Post\"].mean()\n",
        "print(f\"\\n📊 Average Pre-stress: {pre_mean:.2f}\")\n",
        "print(f\"📊 Average Post-stress: {post_mean:.2f}\")\n",
        "print(f\"📉 Reduction: {pre_mean - post_mean:.2f}\")\n"
      ],
      "metadata": {
        "colab": {
          "base_uri": "https://localhost:8080/"
        },
        "id": "5IbNpXh-lP4P",
        "outputId": "831727e8-cd6b-49d7-ddf3-4b828ee5eae6"
      },
      "execution_count": 6,
      "outputs": [
        {
          "output_type": "stream",
          "name": "stdout",
          "text": [
            "\n",
            "📊 Average Pre-stress: 3.34\n",
            "📊 Average Post-stress: 3.03\n",
            "📉 Reduction: 0.31\n"
          ]
        }
      ]
    },
    {
      "cell_type": "markdown",
      "source": [
        "### Comments"
      ],
      "metadata": {
        "id": "L9zkAmsGc5hN"
      }
    },
    {
      "cell_type": "markdown",
      "source": [
        "#### Trail 01 - original (176)"
      ],
      "metadata": {
        "id": "pCcyDJfAc7o3"
      }
    },
    {
      "cell_type": "markdown",
      "source": [
        "📊 Average Pre-stress: 3.24\n",
        "📊 Average Post-stress: 2.93\n",
        "📉 Reduction: 0.30"
      ],
      "metadata": {
        "id": "IcjJMHBvddMv"
      }
    },
    {
      "cell_type": "markdown",
      "source": [
        "#### Trail 02 - merge (684)"
      ],
      "metadata": {
        "id": "7uCX0yyRavos"
      }
    },
    {
      "cell_type": "markdown",
      "source": [
        "\n",
        "📊 Average Pre-stress: 3.34\n",
        "📊 Average Post-stress: 3.03\n",
        "📉 Reduction: 0.31"
      ],
      "metadata": {
        "id": "YB82JSLYazml"
      }
    },
    {
      "cell_type": "markdown",
      "source": [
        "# Deep meditation\n"
      ],
      "metadata": {
        "id": "4MpPX64blTL_"
      }
    },
    {
      "cell_type": "code",
      "source": [
        "import os, re\n",
        "import numpy as np\n",
        "import pandas as pd\n",
        "import matplotlib.pyplot as plt\n",
        "import seaborn as sns\n",
        "from sklearn.model_selection import train_test_split, GridSearchCV, StratifiedKFold, cross_val_score\n",
        "from sklearn.preprocessing import StandardScaler, OneHotEncoder\n",
        "from sklearn.compose import ColumnTransformer\n",
        "from sklearn.pipeline import Pipeline\n",
        "from sklearn.neighbors import KNeighborsClassifier, KNeighborsRegressor\n",
        "from sklearn.svm import SVC, SVR\n",
        "from sklearn.ensemble import RandomForestClassifier, RandomForestRegressor\n",
        "from sklearn.linear_model import LogisticRegression\n",
        "from sklearn.metrics import (accuracy_score, f1_score, roc_auc_score, roc_curve,\n",
        "                             confusion_matrix, classification_report, mean_squared_error, r2_score, mean_absolute_error)\n",
        "from sklearn.decomposition import PCA\n",
        "from sklearn.cluster import KMeans\n",
        "from sklearn.manifold import TSNE\n",
        "from sklearn.metrics import silhouette_score"
      ],
      "metadata": {
        "id": "s9xOdjl9leFo"
      },
      "execution_count": 7,
      "outputs": []
    },
    {
      "cell_type": "markdown",
      "source": [
        "## Loading CSV, PRE/POST, Numeric Treatment"
      ],
      "metadata": {
        "id": "WnsG56Gml3a_"
      }
    },
    {
      "cell_type": "code",
      "source": [
        "# file_path = \"/content/Research Paper Data Collection (UG) - Meditation and Academic Stress - Sheet1 (2).csv\"\n",
        "file_path = \"/content/merge.csv\"\n",
        "assert os.path.exists(file_path), f\"File not found: {file_path}\"\n",
        "\n",
        "# 1) Load the CSV\n",
        "df = pd.read_csv(file_path, skiprows=3, encoding='utf-8', on_bad_lines='skip')\n",
        "#df = pd.read_csv(file_path, encoding='utf-8', on_bad_lines='skip')\n",
        "print(\"Loaded rows,cols:\", df.shape)\n",
        "print(\"Columns:\", df.columns.tolist())\n",
        "\n",
        "# 2) Detect PRE/POST item columns\n",
        "pre_cols = [c for c in df.columns if c.strip().upper().startswith('PRE')]\n",
        "post_cols = [c for c in df.columns if c.strip().upper().startswith('POST')]\n",
        "\n",
        "# safety fallback if detection is different\n",
        "if len(pre_cols) < 7:\n",
        "    pre_cols = [c for c in df.columns if 'PRE' in c.upper()][:7]\n",
        "if len(post_cols) < 7:\n",
        "    post_cols = [c for c in df.columns if 'POST' in c.upper()][:7]\n",
        "\n",
        "print(\"Detected PRE cols:\", pre_cols)\n",
        "print(\"Detected POST cols:\", post_cols)\n",
        "\n",
        "# 3) Create numeric treatment & outcome variables\n",
        "# map frequency text -> numeric days/week (robust)\n",
        "def freq_to_days(val):\n",
        "    if pd.isna(val):\n",
        "        return np.nan\n",
        "    s = str(val).lower()\n",
        "    if 'daily' in s or 'everyday' in s:\n",
        "        return 7.0\n",
        "    if '3-4' in s or '3 - 4' in s or '3 to 4' in s:\n",
        "        return 3.5\n",
        "    if '1-2' in s or '1 - 2' in s or '1 to 2' in s:\n",
        "        return 1.5\n",
        "    if 'none' in s or '0' in s:\n",
        "        return 0.0\n",
        "    if 'rare' in s:\n",
        "        return 0.3\n",
        "    if 'occasional' in s:\n",
        "        return 1.5\n",
        "    if 'frequent' in s:\n",
        "        return 4.0\n",
        "    if 'weekly' in s:\n",
        "        m = re.search(r'(\\d+)', s)\n",
        "        return float(m.group(1)) if m else 1.0\n",
        "    m = re.search(r'(\\d+(\\.\\d+)?)', s)\n",
        "    if m:\n",
        "        return float(m.group(1))\n",
        "    return np.nan\n",
        "\n",
        "freq_col = \"B. Frequency of Meditation:\"\n",
        "if freq_col not in df.columns:\n",
        "    freq_candidates = [c for c in df.columns if 'frequency' in c.lower() or 'freq' in c.lower()]\n",
        "    freq_col = freq_candidates[0] if freq_candidates else None\n",
        "\n",
        "if freq_col:\n",
        "    df['meditation_freq_days'] = df[freq_col].apply(freq_to_days)\n",
        "else:\n",
        "    df['meditation_freq_days'] = np.nan\n",
        "\n",
        "# map average duration text -> minutes numeric\n",
        "dur_col = \"B. Average Duration of each meditation session:\"\n",
        "def duration_to_min(x):\n",
        "    if pd.isna(x): return np.nan\n",
        "    s = str(x).lower()\n",
        "    if '<5' in s or 'less than 5' in s: return 2.5\n",
        "    if '5-15' in s or '5 - 15' in s: return 10\n",
        "    if '15-30' in s: return 22.5\n",
        "    if '30-60' in s: return 45\n",
        "    if '>60' in s or 'more than 60' in s: return 75\n",
        "    m = re.search(r'(\\d+)', s)\n",
        "    return float(m.group(1)) if m else np.nan\n",
        "\n",
        "if dur_col in df.columns:\n",
        "    df['meditation_dur_min'] = df[dur_col].apply(duration_to_min)\n",
        "else:\n",
        "    df['meditation_dur_min'] = np.nan\n",
        "\n",
        "# Build PRE/POST scores (sum of items)\n",
        "if len(pre_cols) >= 1 and len(post_cols) >= 1:\n",
        "    # convert to numeric where possible\n",
        "    df[pre_cols] = df[pre_cols].apply(pd.to_numeric, errors='coerce')\n",
        "    df[post_cols] = df[post_cols].apply(pd.to_numeric, errors='coerce')\n",
        "    df['PRE_score'] = df[pre_cols].sum(axis=1)\n",
        "    df['POST_score'] = df[post_cols].sum(axis=1)\n",
        "    df['delta_score'] = df['POST_score'] - df['PRE_score']   # negative = reduced stress\n",
        "else:\n",
        "    raise RuntimeError(\"Could not find PRE/POST columns. Please check column names.\")\n",
        "\n",
        "# Target (classification): did stress *decrease* after meditation? improved = 1 if POST < PRE\n",
        "df['improved'] = (df['POST_score'] < df['PRE_score']).astype(int)\n",
        "\n",
        "# Inspect class balance\n",
        "print(\"Improved counts:\\n\", df['improved'].value_counts(dropna=False))\n"
      ],
      "metadata": {
        "colab": {
          "base_uri": "https://localhost:8080/"
        },
        "id": "VnZ3qMjHmIwo",
        "outputId": "b41df22b-b6db-480f-fe59-910858b0afb4"
      },
      "execution_count": 8,
      "outputs": [
        {
          "output_type": "stream",
          "name": "stdout",
          "text": [
            "Loaded rows,cols: (684, 49)\n",
            "Columns: ['Submission ID', 'Respondent ID', 'Submitted at', 'A. Enter your age', 'A. Enter your Gender', 'A. Program of Study', 'A. Semester', 'A. Program/Course', 'Program Other Field', 'A. Prior Meditation Experience:', 'B. Frequency of Meditation:', 'B. Average Duration of each meditation session:', 'B. Type of Meditation practiced:', 'B. Would you do meditation voluntarily? By yourself ', 'PRE1. I feel stressed about academic deadlines and exams.', 'PRE2. I struggle to concentrate on studies due to stress.', 'PRE3. Meditation does not help reduce my stress.', 'PRE4. I often feel anxious before tests or assignments.', 'PRE5. I can manage multiple academic tasks without feeling overwhelmed.', 'PRE6. Stress negatively affects my academic performance.', 'PRE7. I feel calm and focused during study sessions.', 'POST1. I feel stressed about academic deadlines and exams.', 'POST2. I struggle to concentrate on studies due to stress.', 'POST3. Meditation does not help reduce my stress.', 'POST4. I often feel anxious before tests or assignments.', 'POST5. I can manage multiple academic tasks without feeling overwhelmed.', 'POST6. Stress negatively affects my academic performance.', 'POST7. I feel calm and focused during study sessions.', 'D1. How did meditation influence your stress levels during academic tasks?', 'D2. Which meditation practices were most effective for you, and why?', 'D3. Did meditation help improve focus, time management, or emotional stability? Please explain.', 'E. Consent Checkbox', 'E. Consent Checkbox (Yes)', 'MISC1. Did meditation just work for you now?', 'MISC. Relaxing Recommendations', 'MISC. Relaxing Recommendations (Check me for relaxing recommendations )', 'MISC2. How frequently do you experience physical symptoms of stress (e.g., headaches, muscle tension) related to academic work?', \"MISC. Describe your problem: (And don't worry, this is full private. We won't say anything, nor will we show any of the teachers)\", 'MISC3. Do you use meditation to cope with exam/academic stress?', 'MISC. Do you do anything else than just meditation? ', 'MISC. What do you actually do to reduce stress during exam time?', 'So... what do you do to relax during exam time?', 'MISC4. Will you recommend meditation to your classmates or other students for stress relief?', 'MISC5. Do you have any other thoughts about meditation and college stress?', 'MISC6. How did our form feel compared to the others? Good, not good, etc? Can you please rate it? where 0 is worst, and 10 is best.', 'Form Comparison: Unique or not.', 'Form Comparison: Unique or not. (Yes, definitely unique. Want to see more like this. )', \"Form Comparison: Unique or not. (Unique, but I don't think I want to see more like this. I want the standard ones. )\", \"Form Comparison: Unique or not. (I don't know, dude. It looks the same to me.)\"]\n",
            "Detected PRE cols: ['PRE1. I feel stressed about academic deadlines and exams.', 'PRE2. I struggle to concentrate on studies due to stress.', 'PRE3. Meditation does not help reduce my stress.', 'PRE4. I often feel anxious before tests or assignments.', 'PRE5. I can manage multiple academic tasks without feeling overwhelmed.', 'PRE6. Stress negatively affects my academic performance.', 'PRE7. I feel calm and focused during study sessions.']\n",
            "Detected POST cols: ['POST1. I feel stressed about academic deadlines and exams.', 'POST2. I struggle to concentrate on studies due to stress.', 'POST3. Meditation does not help reduce my stress.', 'POST4. I often feel anxious before tests or assignments.', 'POST5. I can manage multiple academic tasks without feeling overwhelmed.', 'POST6. Stress negatively affects my academic performance.', 'POST7. I feel calm and focused during study sessions.']\n",
            "Improved counts:\n",
            " improved\n",
            "0    595\n",
            "1     89\n",
            "Name: count, dtype: int64\n"
          ]
        }
      ]
    },
    {
      "cell_type": "markdown",
      "source": [],
      "metadata": {
        "id": "Su_c-epvbCCS"
      }
    },
    {
      "cell_type": "markdown",
      "source": [
        "## Feature selection for modeling"
      ],
      "metadata": {
        "id": "p25p67MTmNul"
      }
    },
    {
      "cell_type": "code",
      "source": [
        "# 4) Feature selection for modeling\n",
        "# Candidate features:\n",
        "# - PRE items (7) (important baseline)\n",
        "# - demographic: age, gender\n",
        "# - meditation features: meditation_freq_days, meditation_dur_min, type of meditation\n",
        "# - optional: semester, program\n",
        "feat_cols = []\n",
        "# numeric PRE item columns:\n",
        "feat_cols += [c for c in pre_cols if c in df.columns]\n",
        "# numeric demographics:\n",
        "if \"A. Enter your age\" in df.columns:\n",
        "    df['age'] = pd.to_numeric(df[\"A. Enter your age\"], errors='coerce')\n",
        "    feat_cols.append('age')\n",
        "if \"A. Enter your Gender\" in df.columns:\n",
        "    cat_gender = \"A. Enter your Gender\"\n",
        "else:\n",
        "    cat_gender = None\n",
        "# meditation features\n",
        "feat_cols += ['meditation_freq_days','meditation_dur_min']\n",
        "# type of meditation (categorical)\n",
        "type_col = \"B. Type of Meditation practiced:\"\n",
        "cat_cols = []\n",
        "if type_col in df.columns:\n",
        "    cat_cols.append(type_col)\n",
        "if cat_gender:\n",
        "    cat_cols.append(cat_gender)\n",
        "\n",
        "# drop rows with missing target or all-important features\n",
        "model_df = df[feat_cols + cat_cols + ['improved','delta_score','PRE_score','POST_score']].copy()\n",
        "model_df = model_df.dropna(subset=['improved','PRE_score'])  # require PRE_score & target\n",
        "print(\"Rows available for modeling:\", len(model_df))\n",
        "\n",
        "# quick impute for missing numeric features (median)\n",
        "for c in feat_cols:\n",
        "    if c in model_df.columns and model_df[c].isna().any():\n",
        "        model_df[c] = model_df[c].fillna(model_df[c].median())\n",
        "\n",
        "# For categorical nulls, fill 'Unknown'\n",
        "for c in cat_cols:\n",
        "    model_df[c] = model_df[c].fillna('Unknown').astype(str)"
      ],
      "metadata": {
        "colab": {
          "base_uri": "https://localhost:8080/"
        },
        "id": "PBKhOcKUmTG5",
        "outputId": "7618a511-65e6-4559-ea6b-4dc5d559cae6"
      },
      "execution_count": 9,
      "outputs": [
        {
          "output_type": "stream",
          "name": "stdout",
          "text": [
            "Rows available for modeling: 684\n"
          ]
        }
      ]
    },
    {
      "cell_type": "markdown",
      "source": [
        "## Build preprocessing pipeline"
      ],
      "metadata": {
        "id": "ej4rJaf8mxAp"
      }
    },
    {
      "cell_type": "code",
      "source": [
        "# 5) Build preprocessing pipeline\n",
        "numeric_features = [c for c in feat_cols if c in model_df.columns and model_df[c].dtype in [np.float64, np.int64, 'float64','int64']]\n",
        "categorical_features = [c for c in cat_cols if c in model_df.columns]\n",
        "\n",
        "print(\"Numeric features:\", numeric_features)\n",
        "print(\"Categorical features:\", categorical_features)\n",
        "\n",
        "numeric_transformer = Pipeline(steps=[\n",
        "    ('scaler', StandardScaler())\n",
        "])\n",
        "categorical_transformer = Pipeline(steps=[\n",
        "    ('ohe', OneHotEncoder(handle_unknown='ignore', sparse_output=False))\n",
        "])\n",
        "\n",
        "preprocessor = ColumnTransformer(\n",
        "    transformers=[\n",
        "        ('num', numeric_transformer, numeric_features),\n",
        "        ('cat', categorical_transformer, categorical_features)\n",
        "    ],\n",
        "    remainder='drop'\n",
        ")\n",
        "\n",
        "# helper to extract feature names after ColumnTransformer\n",
        "def get_feature_names_from_coltransformer(column_transformer):\n",
        "    # adapted helper\n",
        "    output_features = []\n",
        "    for name, trans, cols in column_transformer.transformers_:\n",
        "        if name == 'remainder':\n",
        "            continue\n",
        "        if hasattr(trans, 'named_steps') and 'ohe' in trans.named_steps:\n",
        "            ohe = trans.named_steps['ohe']\n",
        "            # get feature names from ohe\n",
        "            categories = ohe.categories_\n",
        "            for i, col in enumerate(cols):\n",
        "                for cat in categories[i]:\n",
        "                    safe = f\"{col}__{cat}\"\n",
        "                    output_features.append(safe)\n",
        "        else:\n",
        "            # numeric scaler etc -> keep original col names\n",
        "            for col in cols:\n",
        "                output_features.append(col)\n",
        "    return output_features"
      ],
      "metadata": {
        "colab": {
          "base_uri": "https://localhost:8080/"
        },
        "id": "4kgBXk5BmvTy",
        "outputId": "d5992305-8331-4322-aa48-b58d4bf4781b"
      },
      "execution_count": 10,
      "outputs": [
        {
          "output_type": "stream",
          "name": "stdout",
          "text": [
            "Numeric features: ['PRE1. I feel stressed about academic deadlines and exams.', 'PRE2. I struggle to concentrate on studies due to stress.', 'PRE3. Meditation does not help reduce my stress.', 'PRE4. I often feel anxious before tests or assignments.', 'PRE5. I can manage multiple academic tasks without feeling overwhelmed.', 'PRE6. Stress negatively affects my academic performance.', 'PRE7. I feel calm and focused during study sessions.', 'age', 'meditation_freq_days', 'meditation_dur_min']\n",
            "Categorical features: ['B. Type of Meditation practiced:', 'A. Enter your Gender']\n"
          ]
        }
      ]
    },
    {
      "cell_type": "markdown",
      "source": [
        "### Comments"
      ],
      "metadata": {
        "id": "IQe4kA-Xcor3"
      }
    },
    {
      "cell_type": "markdown",
      "source": [
        "#### Trail 01"
      ],
      "metadata": {
        "id": "c06nxurdcqyw"
      }
    },
    {
      "cell_type": "markdown",
      "source": [
        "Numeric features: ['PRE1. I feel stressed about academic deadlines and exams.', 'PRE2. I struggle to concentrate on studies due to stress.', 'PRE3. Meditation does not help reduce my stress.', 'PRE4. I often feel anxious before tests or assignments.', 'PRE5. I can manage multiple academic tasks without feeling overwhelmed.', 'PRE6. Stress negatively affects my academic performance.', 'PRE7. I feel calm and focused during study sessions.', 'age', 'meditation_freq_days', 'meditation_dur_min']\n",
        "Categorical features: ['B. Type of Meditation practiced:', 'A. Enter your Gender']"
      ],
      "metadata": {
        "id": "OFccPIZPeGav"
      }
    },
    {
      "cell_type": "markdown",
      "source": [
        "#### Trail 02 - merge (684)"
      ],
      "metadata": {
        "id": "bFxeCabkbIy0"
      }
    },
    {
      "cell_type": "markdown",
      "source": [
        "Numeric features: ['PRE1. I feel stressed about academic deadlines and exams.', 'PRE2. I struggle to concentrate on studies due to stress.', 'PRE3. Meditation does not help reduce my stress.', 'PRE4. I often feel anxious before tests or assignments.', 'PRE5. I can manage multiple academic tasks without feeling overwhelmed.', 'PRE6. Stress negatively affects my academic performance.', 'PRE7. I feel calm and focused during study sessions.', 'age', 'meditation_freq_days', 'meditation_dur_min']\n",
        "Categorical features: ['B. Type of Meditation practiced:', 'A. Enter your Gender']"
      ],
      "metadata": {
        "id": "CRqaZJapbJuf"
      }
    },
    {
      "cell_type": "markdown",
      "source": [
        "## Train/Test split"
      ],
      "metadata": {
        "id": "qDUIcxkom5-V"
      }
    },
    {
      "cell_type": "code",
      "source": [
        "# 6) Train/test split\n",
        "X = model_df[numeric_features + categorical_features]\n",
        "y = model_df['improved']\n",
        "# stratify to keep class balance\n",
        "X_train, X_test, y_train, y_test = train_test_split(X, y, test_size=0.2, stratify=y, random_state=42)\n",
        "print(\"Train/test sizes:\", X_train.shape, X_test.shape)"
      ],
      "metadata": {
        "colab": {
          "base_uri": "https://localhost:8080/"
        },
        "id": "B3VZQVerm5SE",
        "outputId": "d8007d71-2c15-4f5b-d6c9-bd16da90379d"
      },
      "execution_count": 11,
      "outputs": [
        {
          "output_type": "stream",
          "name": "stdout",
          "text": [
            "Train/test sizes: (547, 12) (137, 12)\n"
          ]
        }
      ]
    },
    {
      "cell_type": "markdown",
      "source": [
        "### Comments"
      ],
      "metadata": {
        "id": "gX2P6IzYcZ3c"
      }
    },
    {
      "cell_type": "markdown",
      "source": [
        "#### Trail 01"
      ],
      "metadata": {
        "id": "7LdecwgLcbxD"
      }
    },
    {
      "cell_type": "markdown",
      "source": [
        "Train/test sizes: (108, 12) (27, 12)"
      ],
      "metadata": {
        "id": "ACMEzBN2eIOp"
      }
    },
    {
      "cell_type": "markdown",
      "source": [
        "#### Trail 02 - merge (684)"
      ],
      "metadata": {
        "id": "QgLlexDKbPDm"
      }
    },
    {
      "cell_type": "markdown",
      "source": [
        "Train/test sizes: (547, 12) (137, 12)"
      ],
      "metadata": {
        "id": "QBDqcVicbOS6"
      }
    },
    {
      "cell_type": "markdown",
      "source": [
        "## Classifiers: KNN, SVM, RandomForest (GridSearch)"
      ],
      "metadata": {
        "id": "LYCT1HMlm-80"
      }
    },
    {
      "cell_type": "code",
      "source": [
        "# 7) Classifiers: KNN, SVM, RandomForest (GridSearch)\n",
        "cv = StratifiedKFold(n_splits=5, shuffle=True, random_state=42)\n",
        "\n",
        "estimators = {\n",
        "    'knn': (KNeighborsClassifier(), {\n",
        "        'classifier__n_neighbors': [3,5,7],\n",
        "        'classifier__weights': ['uniform','distance'],\n",
        "        'classifier__metric': ['euclidean','manhattan']\n",
        "    }),\n",
        "    'svc': (SVC(probability=True), {\n",
        "        'classifier__C': [0.1,1,10],\n",
        "        'classifier__kernel': ['rbf','linear'],\n",
        "        'classifier__gamma': ['scale','auto']\n",
        "    }),\n",
        "    'rf': (RandomForestClassifier(random_state=42), {\n",
        "        'classifier__n_estimators': [100,200],\n",
        "        'classifier__max_depth': [None,5,10],\n",
        "        'classifier__class_weight': [None, 'balanced']\n",
        "    })\n",
        "}\n",
        "\n",
        "best_models = {}\n",
        "for name, (estimator, param_grid) in estimators.items():\n",
        "    print(\"\\n== Training\", name, \"==\")\n",
        "    pipe = Pipeline(steps=[('pre', preprocessor),\n",
        "                           ('classifier', estimator)])\n",
        "    # wrap param grid keys with 'classifier__'\n",
        "    gs = GridSearchCV(pipe, param_grid, cv=cv, scoring='f1', n_jobs=-1, verbose=0)\n",
        "    gs.fit(X_train, y_train)\n",
        "    print(\"Best params:\", gs.best_params_)\n",
        "    print(\"Best CV f1:\", gs.best_score_)\n",
        "    best_models[name] = gs.best_estimator_\n",
        "\n",
        "# Evaluate models on test set\n",
        "for name, model in best_models.items():\n",
        "    y_pred = model.predict(X_test)\n",
        "    y_proba = model.predict_proba(X_test)[:,1] if hasattr(model, 'predict_proba') else None\n",
        "    print(\"\\n--- Test results for\", name, \"---\")\n",
        "    print(\"Accuracy:\", accuracy_score(y_test, y_pred))\n",
        "    print(\"F1:\", f1_score(y_test, y_pred))\n",
        "    if y_proba is not None:\n",
        "        try:\n",
        "            print(\"ROC AUC:\", roc_auc_score(y_test, y_proba))\n",
        "        except:\n",
        "            pass\n",
        "    print(classification_report(y_test, y_pred))\n",
        "    cm = confusion_matrix(y_test, y_pred)\n",
        "    sns.heatmap(cm, annot=True, fmt='d', cmap='Blues'); plt.title(f'Confusion matrix: {name}'); plt.xlabel('pred'); plt.ylabel('true'); plt.show()\n",
        "\n",
        "    # ROC curve\n",
        "    if y_proba is not None:\n",
        "        fpr, tpr, _ = roc_curve(y_test, y_proba)\n",
        "        plt.figure(); plt.plot(fpr, tpr, label=f'{name} (AUC={roc_auc_score(y_test, y_proba):.2f})')\n",
        "        plt.plot([0,1],[0,1],'k--'); plt.xlabel('FPR'); plt.ylabel('TPR'); plt.title(f'ROC Curve: {name}'); plt.legend(); plt.show()"
      ],
      "metadata": {
        "colab": {
          "base_uri": "https://localhost:8080/",
          "height": 1000
        },
        "id": "-BzgbG9qnJqg",
        "outputId": "fd5f713a-ebe5-43e8-83d8-366258957297"
      },
      "execution_count": 12,
      "outputs": [
        {
          "output_type": "stream",
          "name": "stdout",
          "text": [
            "\n",
            "== Training knn ==\n",
            "Best params: {'classifier__metric': 'manhattan', 'classifier__n_neighbors': 5, 'classifier__weights': 'distance'}\n",
            "Best CV f1: 0.5047619047619047\n",
            "\n",
            "== Training svc ==\n",
            "Best params: {'classifier__C': 0.1, 'classifier__gamma': 'scale', 'classifier__kernel': 'linear'}\n",
            "Best CV f1: 0.5474624694821048\n",
            "\n",
            "== Training rf ==\n",
            "Best params: {'classifier__class_weight': 'balanced', 'classifier__max_depth': 5, 'classifier__n_estimators': 200}\n",
            "Best CV f1: 0.6314108114108115\n",
            "\n",
            "--- Test results for knn ---\n",
            "Accuracy: 0.9124087591240876\n",
            "F1: 0.6470588235294118\n",
            "ROC AUC: 0.9299719887955182\n",
            "              precision    recall  f1-score   support\n",
            "\n",
            "           0       0.94      0.96      0.95       119\n",
            "           1       0.69      0.61      0.65        18\n",
            "\n",
            "    accuracy                           0.91       137\n",
            "   macro avg       0.81      0.78      0.80       137\n",
            "weighted avg       0.91      0.91      0.91       137\n",
            "\n"
          ]
        },
        {
          "output_type": "display_data",
          "data": {
            "text/plain": [
              "<Figure size 640x480 with 2 Axes>"
            ],
            "image/png": "[encoded data removed]"
          },
          "metadata": {}
        },
        {
          "output_type": "display_data",
          "data": {
            "text/plain": [
              "<Figure size 640x480 with 1 Axes>"
            ],
            "image/png": "[encoded data removed]"
          },
          "metadata": {}
        },
        {
          "output_type": "stream",
          "name": "stdout",
          "text": [
            "\n",
            "--- Test results for svc ---\n",
            "Accuracy: 0.8905109489051095\n",
            "F1: 0.5161290322580645\n",
            "ROC AUC: 0.7521008403361346\n",
            "              precision    recall  f1-score   support\n",
            "\n",
            "           0       0.92      0.96      0.94       119\n",
            "           1       0.62      0.44      0.52        18\n",
            "\n",
            "    accuracy                           0.89       137\n",
            "   macro avg       0.77      0.70      0.73       137\n",
            "weighted avg       0.88      0.89      0.88       137\n",
            "\n"
          ]
        },
        {
          "output_type": "display_data",
          "data": {
            "text/plain": [
              "<Figure size 640x480 with 2 Axes>"
            ],
            "image/png": "[encoded data removed]"
          },
          "metadata": {}
        },
        {
          "output_type": "display_data",
          "data": {
            "text/plain": [
              "<Figure size 640x480 with 1 Axes>"
            ],
            "image/png": "[encoded data removed]"
          },
          "metadata": {}
        },
        {
          "output_type": "stream",
          "name": "stdout",
          "text": [
            "\n",
            "--- Test results for rf ---\n",
            "Accuracy: 0.8686131386861314\n",
            "F1: 0.6666666666666666\n",
            "ROC AUC: 0.9477124183006537\n",
            "              precision    recall  f1-score   support\n",
            "\n",
            "           0       1.00      0.85      0.92       119\n",
            "           1       0.50      1.00      0.67        18\n",
            "\n",
            "    accuracy                           0.87       137\n",
            "   macro avg       0.75      0.92      0.79       137\n",
            "weighted avg       0.93      0.87      0.89       137\n",
            "\n"
          ]
        },
        {
          "output_type": "display_data",
          "data": {
            "text/plain": [
              "<Figure size 640x480 with 2 Axes>"
            ],
            "image/png": "[encoded data removed]"
          },
          "metadata": {}
        },
        {
          "output_type": "display_data",
          "data": {
            "text/plain": [
              "<Figure size 640x480 with 1 Axes>"
            ],
            "image/png": "[encoded data removed]"
          },
          "metadata": {}
        }
      ]
    },
    {
      "cell_type": "code",
      "source": [
        "# ============================================\n",
        "# 7️⃣ CLASSIFIER TRAINING USING ALL DATA\n",
        "# ============================================\n",
        "\n",
        "from sklearn.model_selection import StratifiedKFold, GridSearchCV, cross_val_predict\n",
        "from sklearn.pipeline import Pipeline\n",
        "from sklearn.neighbors import KNeighborsClassifier\n",
        "from sklearn.svm import SVC\n",
        "from sklearn.ensemble import RandomForestClassifier\n",
        "from sklearn.metrics import (\n",
        "    accuracy_score, f1_score, roc_auc_score,\n",
        "    classification_report, confusion_matrix, roc_curve\n",
        ")\n",
        "import matplotlib.pyplot as plt\n",
        "import seaborn as sns\n",
        "import pandas as pd\n",
        "\n",
        "plt.style.use(\"seaborn-v0_8-whitegrid\")\n",
        "sns.set_palette(\"Set2\")\n",
        "\n",
        "# Combine your X_train and X_test for full use\n",
        "X_full = pd.concat([X_train, X_test], axis=0)\n",
        "y_full = pd.concat([y_train, y_test], axis=0)\n",
        "print(f\"🧩 Using full dataset — Total samples: {len(X_full)}, Features: {X_full.shape[1]}\")\n",
        "\n",
        "# Cross-validation setup\n",
        "cv = StratifiedKFold(n_splits=5, shuffle=True, random_state=42)\n",
        "\n",
        "# Define models and parameter grids\n",
        "estimators = {\n",
        "    'KNN': (\n",
        "        KNeighborsClassifier(),\n",
        "        {\n",
        "            'classifier__n_neighbors': [3, 5, 7],\n",
        "            'classifier__weights': ['uniform', 'distance'],\n",
        "            'classifier__metric': ['euclidean', 'manhattan']\n",
        "        }\n",
        "    ),\n",
        "    'SVM': (\n",
        "        SVC(probability=True),\n",
        "        {\n",
        "            'classifier__C': [0.1, 1, 10],\n",
        "            'classifier__kernel': ['rbf', 'linear'],\n",
        "            'classifier__gamma': ['scale', 'auto']\n",
        "        }\n",
        "    ),\n",
        "    'Random Forest': (\n",
        "        RandomForestClassifier(random_state=42),\n",
        "        {\n",
        "            'classifier__n_estimators': [100, 200],\n",
        "            'classifier__max_depth': [None, 5, 10],\n",
        "            'classifier__class_weight': [None, 'balanced']\n",
        "        }\n",
        "    )\n",
        "}\n",
        "\n",
        "best_models = {}\n",
        "model_summary = []\n",
        "\n",
        "# ==================================\n",
        "# 🔧 GRID SEARCH + CROSS-VALIDATION\n",
        "# ==================================\n",
        "for name, (estimator, param_grid) in estimators.items():\n",
        "    print(f\"\\n== 🧠 Training {name} using all {len(X_full)} samples ==\")\n",
        "\n",
        "    pipe = Pipeline(steps=[\n",
        "        ('pre', preprocessor),\n",
        "        ('classifier', estimator)\n",
        "    ])\n",
        "\n",
        "    # Grid search with 5-fold CV\n",
        "    gs = GridSearchCV(pipe, param_grid, cv=cv, scoring='f1', n_jobs=-1, verbose=0)\n",
        "    gs.fit(X_full, y_full)\n",
        "\n",
        "    print(f\"✅ Best parameters: {gs.best_params_}\")\n",
        "    print(f\"✅ Best CV F1-score: {gs.best_score_:.3f}\")\n",
        "    best_model = gs.best_estimator_\n",
        "    best_models[name] = best_model\n",
        "\n",
        "    # Cross-validated predictions for metrics\n",
        "    y_pred = cross_val_predict(best_model, X_full, y_full, cv=cv)\n",
        "    y_proba = cross_val_predict(best_model, X_full, y_full, cv=cv, method='predict_proba')[:,1]\n",
        "\n",
        "    acc = accuracy_score(y_full, y_pred)\n",
        "    f1 = f1_score(y_full, y_pred)\n",
        "    auc = roc_auc_score(y_full, y_proba)\n",
        "\n",
        "    print(\"\\nClassification Report (Full Data):\")\n",
        "    print(classification_report(y_full, y_pred, target_names=['Not Improved','Improved']))\n",
        "\n",
        "    cm = confusion_matrix(y_full, y_pred)\n",
        "    cm_df = pd.DataFrame(cm,\n",
        "                         index=['Actual: Not Improved', 'Actual: Improved'],\n",
        "                         columns=['Pred: Not Improved', 'Pred: Improved'])\n",
        "    print(\"\\nConfusion Matrix (Full Data):\")\n",
        "    print(cm_df)\n",
        "\n",
        "    # 🔵 Confusion Matrix Plot\n",
        "    plt.figure(figsize=(4,3))\n",
        "    sns.heatmap(cm_df, annot=True, fmt='d', cmap='Blues')\n",
        "    plt.title(f\"Confusion Matrix — {name}\")\n",
        "    plt.xlabel(\"Predicted\")\n",
        "    plt.ylabel(\"Actual\")\n",
        "    plt.show()\n",
        "\n",
        "    # 🔴 ROC Curve Plot\n",
        "    fpr, tpr, _ = roc_curve(y_full, y_proba)\n",
        "    plt.figure(figsize=(5,4))\n",
        "    plt.plot(fpr, tpr, label=f\"{name} (AUC={auc:.2f})\", linewidth=2)\n",
        "    plt.plot([0,1],[0,1],'k--', label=\"Chance Level\")\n",
        "    plt.xlabel(\"False Positive Rate\")\n",
        "    plt.ylabel(\"True Positive Rate\")\n",
        "    plt.title(f\"ROC Curve — {name}\")\n",
        "    plt.legend()\n",
        "    plt.show()\n",
        "\n",
        "    # Append to summary table\n",
        "    model_summary.append({'Model': name, 'Accuracy': acc, 'F1 Score': f1, 'ROC AUC': auc})\n",
        "\n",
        "# ==================================\n",
        "# 🏁 MODEL COMPARISON TABLE\n",
        "# ==================================\n",
        "model_results = pd.DataFrame(model_summary).round(3)\n",
        "print(\"\\n=== 📋 Model Performance Summary (All Data) ===\")\n",
        "print(model_results)\n",
        "\n",
        "# Visual barplot comparison\n",
        "plt.figure(figsize=(7,4))\n",
        "sns.barplot(data=model_results.melt(id_vars='Model'),\n",
        "            x='Model', y='value', hue='variable')\n",
        "plt.title(\"Model Comparison (Accuracy, F1, AUC)\")\n",
        "plt.ylabel(\"Score\")\n",
        "plt.ylim(0, 1)\n",
        "plt.legend(title=\"Metric\")\n",
        "plt.show()\n"
      ],
      "metadata": {
        "colab": {
          "base_uri": "https://localhost:8080/",
          "height": 1000
        },
        "id": "eff2Hqrbt9fu",
        "outputId": "5713ba5c-8564-428a-f6c7-41b6b3cb7f57"
      },
      "execution_count": null,
      "outputs": [
        {
          "output_type": "stream",
          "name": "stdout",
          "text": [
            "🧩 Using full dataset — Total samples: 684, Features: 12\n",
            "\n",
            "== 🧠 Training KNN using all 684 samples ==\n",
            "✅ Best parameters: {'classifier__metric': 'manhattan', 'classifier__n_neighbors': 5, 'classifier__weights': 'uniform'}\n",
            "✅ Best CV F1-score: 0.611\n",
            "\n",
            "Classification Report (Full Data):\n",
            "              precision    recall  f1-score   support\n",
            "\n",
            "Not Improved       0.94      0.94      0.94       595\n",
            "    Improved       0.62      0.61      0.61        89\n",
            "\n",
            "    accuracy                           0.90       684\n",
            "   macro avg       0.78      0.78      0.78       684\n",
            "weighted avg       0.90      0.90      0.90       684\n",
            "\n",
            "\n",
            "Confusion Matrix (Full Data):\n",
            "                      Pred: Not Improved  Pred: Improved\n",
            "Actual: Not Improved                 562              33\n",
            "Actual: Improved                      35              54\n"
          ]
        },
        {
          "output_type": "display_data",
          "data": {
            "text/plain": [
              "<Figure size 400x300 with 2 Axes>"
            ],
            "image/png": "[encoded data removed]"
          },
          "metadata": {}
        },
        {
          "output_type": "display_data",
          "data": {
            "text/plain": [
              "<Figure size 500x400 with 1 Axes>"
            ],
            "image/png": "[encoded data removed]"
          },
          "metadata": {}
        },
        {
          "output_type": "stream",
          "name": "stdout",
          "text": [
            "\n",
            "== 🧠 Training SVM using all 684 samples ==\n",
            "✅ Best parameters: {'classifier__C': 10, 'classifier__gamma': 'scale', 'classifier__kernel': 'rbf'}\n",
            "✅ Best CV F1-score: 0.603\n",
            "\n",
            "Classification Report (Full Data):\n",
            "              precision    recall  f1-score   support\n",
            "\n",
            "Not Improved       0.94      0.95      0.94       595\n",
            "    Improved       0.64      0.57      0.60        89\n",
            "\n",
            "    accuracy                           0.90       684\n",
            "   macro avg       0.79      0.76      0.77       684\n",
            "weighted avg       0.90      0.90      0.90       684\n",
            "\n",
            "\n",
            "Confusion Matrix (Full Data):\n",
            "                      Pred: Not Improved  Pred: Improved\n",
            "Actual: Not Improved                 566              29\n",
            "Actual: Improved                      38              51\n"
          ]
        },
        {
          "output_type": "display_data",
          "data": {
            "text/plain": [
              "<Figure size 400x300 with 2 Axes>"
            ],
            "image/png": "[encoded data removed]"
          },
          "metadata": {}
        },
        {
          "output_type": "display_data",
          "data": {
            "text/plain": [
              "<Figure size 500x400 with 1 Axes>"
            ],
            "image/png": "[encoded data removed]"
          },
          "metadata": {}
        },
        {
          "output_type": "stream",
          "name": "stdout",
          "text": [
            "\n",
            "== 🧠 Training Random Forest using all 684 samples ==\n"
          ]
        }
      ]
    },
    {
      "cell_type": "markdown",
      "source": [
        "### Comments"
      ],
      "metadata": {
        "id": "xsmaPMIdbOo5"
      }
    },
    {
      "cell_type": "markdown",
      "source": [
        "#### Trail 01"
      ],
      "metadata": {
        "id": "Dx8vTxrCb5s3"
      }
    },
    {
      "cell_type": "markdown",
      "source": [
        "\n",
        "== Training knn ==\n",
        "Best params: {'classifier__metric': 'euclidean', 'classifier__n_neighbors': 5, 'classifier__weights': 'uniform'}\n",
        "Best CV f1: 0.5349999999999999\n",
        "\n",
        "== Training svc ==\n",
        "Best params: {'classifier__C': 0.1, 'classifier__gamma': 'scale', 'classifier__kernel': 'linear'}\n",
        "Best CV f1: 0.5546189001916556\n",
        "\n",
        "== Training rf ==\n",
        "Best params: {'classifier__class_weight': None, 'classifier__max_depth': 10, 'classifier__n_estimators': 200}\n",
        "Best CV f1: 0.5846758607749319\n",
        "\n",
        "--- Test results for knn ---\n",
        "Accuracy: 0.8148148148148148\n",
        "F1: 0.7619047619047619\n",
        "ROC AUC: 0.8186813186813188\n",
        "              precision    recall  f1-score   support\n",
        "\n",
        "           0       0.74      1.00      0.85        14\n",
        "           1       1.00      0.62      0.76        13\n",
        "\n",
        "    accuracy                           0.81        27\n",
        "   macro avg       0.87      0.81      0.81        27\n",
        "weighted avg       0.86      0.81      0.81        27\n",
        "\n",
        "\n",
        "\n",
        "\n",
        "--- Test results for svc ---\n",
        "Accuracy: 0.8148148148148148\n",
        "F1: 0.782608695652174\n",
        "ROC AUC: 0.7747252747252747\n",
        "              precision    recall  f1-score   support\n",
        "\n",
        "           0       0.76      0.93      0.84        14\n",
        "           1       0.90      0.69      0.78        13\n",
        "\n",
        "    accuracy                           0.81        27\n",
        "   macro avg       0.83      0.81      0.81        27\n",
        "weighted avg       0.83      0.81      0.81        27\n",
        "\n",
        "\n",
        "\n",
        "\n",
        "--- Test results for rf ---\n",
        "Accuracy: 0.7777777777777778\n",
        "F1: 0.75\n",
        "ROC AUC: 0.8351648351648352\n",
        "              precision    recall  f1-score   support\n",
        "\n",
        "           0       0.75      0.86      0.80        14\n",
        "           1       0.82      0.69      0.75        13\n",
        "\n",
        "    accuracy                           0.78        27\n",
        "   macro avg       0.78      0.77      0.78        27\n",
        "weighted avg       0.78      0.78      0.78        27\n",
        "\n",
        "\n"
      ],
      "metadata": {
        "id": "YLG7p84HeMuq"
      }
    },
    {
      "cell_type": "markdown",
      "source": [
        "#### Trail 02 - merge (684)"
      ],
      "metadata": {
        "id": "kEJfHxPjbZzo"
      }
    },
    {
      "cell_type": "markdown",
      "source": [
        "\n",
        "== Training knn ==\n",
        "Best params: {'classifier__metric': 'manhattan', 'classifier__n_neighbors': 5, 'classifier__weights': 'distance'}\n",
        "Best CV f1: 0.5047619047619047\n",
        "\n",
        "== Training svc ==\n",
        "Best params: {'classifier__C': 0.1, 'classifier__gamma': 'scale', 'classifier__kernel': 'linear'}\n",
        "Best CV f1: 0.5474624694821048\n",
        "\n",
        "== Training rf ==\n",
        "Best params: {'classifier__class_weight': 'balanced', 'classifier__max_depth': 5, 'classifier__n_estimators': 200}\n",
        "Best CV f1: 0.6314108114108115\n",
        "\n",
        "--- Test results for knn ---\n",
        "Accuracy: 0.9124087591240876\n",
        "F1: 0.6470588235294118\n",
        "ROC AUC: 0.9299719887955182\n",
        "              precision    recall  f1-score   support\n",
        "\n",
        "           0       0.94      0.96      0.95       119\n",
        "           1       0.69      0.61      0.65        18\n",
        "\n",
        "    accuracy                           0.91       137\n",
        "   macro avg       0.81      0.78      0.80       137\n",
        "weighted avg       0.91      0.91      0.91       137\n",
        "\n",
        "\n",
        "--- Test results for svc ---\n",
        "Accuracy: 0.8905109489051095\n",
        "F1: 0.5161290322580645\n",
        "ROC AUC: 0.7978524743230626\n",
        "              precision    recall  f1-score   support\n",
        "\n",
        "           0       0.92      0.96      0.94       119\n",
        "           1       0.62      0.44      0.52        18\n",
        "\n",
        "    accuracy                           0.89       137\n",
        "   macro avg       0.77      0.70      0.73       137\n",
        "weighted avg       0.88      0.89      0.88       137\n",
        "\n",
        "\n",
        "--- Test results for rf ---\n",
        "Accuracy: 0.8686131386861314\n",
        "F1: 0.6666666666666666\n",
        "ROC AUC: 0.9477124183006537\n",
        "              precision    recall  f1-score   support\n",
        "\n",
        "           0       1.00      0.85      0.92       119\n",
        "           1       0.50      1.00      0.67        18\n",
        "\n",
        "    accuracy                           0.87       137\n",
        "   macro avg       0.75      0.92      0.79       137\n",
        "weighted avg       0.93      0.87      0.89       137\n",
        "\n"
      ],
      "metadata": {
        "id": "L2G5uIMbbjqF"
      }
    },
    {
      "cell_type": "markdown",
      "source": [
        "## Feature importance for RandomForest"
      ],
      "metadata": {
        "id": "T0uc44tVnLT-"
      }
    },
    {
      "cell_type": "code",
      "source": [
        "# 8) Feature importance for RandomForest\n",
        "rf_model = best_models.get('rf')\n",
        "if rf_model is not None:\n",
        "    # extract preprocessor feature names\n",
        "    rf_features = get_feature_names_from_coltransformer(rf_model.named_steps['pre'])\n",
        "    importances = rf_model.named_steps['classifier'].feature_importances_\n",
        "    feat_imp = pd.Series(importances, index=rf_features).sort_values(ascending=False)\n",
        "    print(\"\\nTop features (RF):\\n\", feat_imp.head(15))"
      ],
      "metadata": {
        "id": "hF3_10qvnUAN"
      },
      "execution_count": null,
      "outputs": []
    },
    {
      "cell_type": "markdown",
      "source": [
        "### Comments"
      ],
      "metadata": {
        "id": "7gBRQeylbSJ3"
      }
    },
    {
      "cell_type": "markdown",
      "source": [
        "#### Trail 01"
      ],
      "metadata": {
        "id": "x1jslHYmb7fa"
      }
    },
    {
      "cell_type": "markdown",
      "source": [
        "\n",
        "Top features (RF):\n",
        " PRE4. I often feel anxious before tests or assignments.                    0.127050\n",
        "PRE1. I feel stressed about academic deadlines and exams.                  0.108981\n",
        "PRE7. I feel calm and focused during study sessions.                       0.096767\n",
        "PRE3. Meditation does not help reduce my stress.                           0.092272\n",
        "PRE2. I struggle to concentrate on studies due to stress.                  0.083490\n",
        "PRE5. I can manage multiple academic tasks without feeling overwhelmed.    0.077889\n",
        "PRE6. Stress negatively affects my academic performance.                   0.076480\n",
        "age                                                                        0.074544\n",
        "meditation_dur_min                                                         0.066562\n",
        "meditation_freq_days                                                       0.056357\n",
        "A. Enter your Gender__Male                                                 0.028746\n",
        "A. Enter your Gender__Female                                               0.026257\n",
        "B. Type of Meditation practiced:__Breath-based (Pranayama)                 0.024228\n",
        "B. Type of Meditation practiced:__Mantra-based                             0.020479\n",
        "B. Type of Meditation practiced:__Mindfullness/Awareness                   0.019537\n",
        "dtype: float64"
      ],
      "metadata": {
        "id": "RUwk1vgGeP9b"
      }
    },
    {
      "cell_type": "markdown",
      "source": [
        "### **Trail** 02 - merge"
      ],
      "metadata": {
        "id": "WXF_kMHebv7g"
      }
    },
    {
      "cell_type": "markdown",
      "source": [],
      "metadata": {
        "id": "PRnDWt0Bbzox"
      }
    },
    {
      "cell_type": "markdown",
      "source": [
        "# Regression: predict delta_score (stress change)"
      ],
      "metadata": {
        "id": "1l0nZ7_gnW2z"
      }
    },
    {
      "cell_type": "code",
      "source": [
        "# 9) Regression: predict delta_score (stress change)\n",
        "# remove rows with NaN delta\n",
        "reg_df = model_df.dropna(subset=['delta_score'])\n",
        "if len(reg_df) >= 20:\n",
        "    Xr = reg_df[numeric_features + categorical_features]\n",
        "    yr = reg_df['delta_score']\n",
        "    Xr_train, Xr_test, yr_train, yr_test = train_test_split(Xr, yr, test_size=0.2, random_state=42)\n",
        "    # pipeline with RandomForestRegressor, KNNRegressor, SVR\n",
        "    reg_estimators = {\n",
        "        'knn_reg': KNeighborsRegressor(n_neighbors=5),\n",
        "        'svr': SVR(C=1.0, gamma='scale'),\n",
        "        'rf_reg': RandomForestRegressor(n_estimators=200, random_state=42)\n",
        "    }\n",
        "    for name, regr in reg_estimators.items():\n",
        "        pipe = Pipeline(steps=[('pre', preprocessor),\n",
        "                               ('reg', regr)])\n",
        "        pipe.fit(Xr_train, yr_train)\n",
        "        preds = pipe.predict(Xr_test)\n",
        "        rmse = np.sqrt(mean_squared_error(yr_test, preds))\n",
        "        r2 = r2_score(yr_test, preds)\n",
        "        mae = mean_absolute_error(yr_test, preds)\n",
        "        print(f\"\\n{name} -- RMSE: {rmse:.3f}, R2: {r2:.3f}, MAE: {mae:.3f}\")\n",
        "else:\n",
        "    print(\"Not enough data for regression modeling (delta_score).\")"
      ],
      "metadata": {
        "id": "4-e7Q5oLkOw0"
      },
      "execution_count": null,
      "outputs": []
    },
    {
      "cell_type": "markdown",
      "source": [
        "### Comments"
      ],
      "metadata": {
        "id": "8IZ838dRbVf7"
      }
    },
    {
      "cell_type": "markdown",
      "source": [
        "#### Trail 01"
      ],
      "metadata": {
        "id": "-h4tz6Blb-Pd"
      }
    },
    {
      "cell_type": "markdown",
      "source": [
        "\n",
        "knn_reg -- RMSE: 3.874, R2: 0.253, MAE: 2.933\n",
        "\n",
        "svr -- RMSE: 4.348, R2: 0.060, MAE: 2.997\n",
        "\n",
        "rf_reg -- RMSE: 3.845, R2: 0.265, MAE: 3.026"
      ],
      "metadata": {
        "id": "f_TlTPtJeSBL"
      }
    },
    {
      "cell_type": "markdown",
      "source": [
        "#### Trail 02 - merge"
      ],
      "metadata": {
        "id": "FSneWo9Mb2wO"
      }
    },
    {
      "cell_type": "markdown",
      "source": [
        "\n",
        "knn_reg -- RMSE: 2.109, R2: -0.174, MAE: 0.961\n",
        "\n",
        "svr -- RMSE: 1.925, R2: 0.022, MAE: 0.868\n",
        "\n",
        "rf_reg -- RMSE: 2.272, R2: -0.363, MAE: 1.040"
      ],
      "metadata": {
        "id": "_ihju8K9b5aT"
      }
    },
    {
      "cell_type": "markdown",
      "source": [
        "## Clustering & Visualization (PCA + t-SNE)"
      ],
      "metadata": {
        "id": "pUicpgHun4jR"
      }
    },
    {
      "cell_type": "code",
      "source": [
        "# 10) Clustering & Visualization (PCA + t-SNE)\n",
        "from sklearn.preprocessing import StandardScaler\n",
        "from sklearn.cluster import KMeans\n",
        "from sklearn.metrics import silhouette_score\n",
        "from sklearn.decomposition import PCA\n",
        "from sklearn.manifold import TSNE\n",
        "import seaborn as sns\n",
        "import matplotlib.pyplot as plt\n",
        "\n",
        "# Select numeric + categorical features\n",
        "full_X = model_df[numeric_features + categorical_features]\n",
        "\n",
        "# Encode categorical variables\n",
        "full_X_enc = pd.get_dummies(full_X.fillna('NA'), drop_first=True)\n",
        "print(\"Clustering on shape:\", full_X_enc.shape)\n",
        "\n",
        "if full_X_enc.shape[0] >= 10:\n",
        "    scaler = StandardScaler()\n",
        "    X_scaled = scaler.fit_transform(full_X_enc)\n",
        "\n",
        "    # Find best K using silhouette score\n",
        "    best_k = 2\n",
        "    best_sil = -1\n",
        "    for k in range(2, 6):\n",
        "        km = KMeans(n_clusters=k, random_state=42, n_init=10).fit(X_scaled)\n",
        "        sil = silhouette_score(X_scaled, km.labels_)\n",
        "        if sil > best_sil:\n",
        "            best_sil = sil\n",
        "            best_k = k\n",
        "\n",
        "    # Final clustering\n",
        "    km = KMeans(n_clusters=best_k, random_state=42, n_init=10).fit(X_scaled)\n",
        "    print(f\"Chosen number of clusters (k): {best_k}  |  Silhouette score: {best_sil:.3f}\")\n",
        "\n",
        "    # Dimensionality reduction\n",
        "    pca = PCA(n_components=10, random_state=42)\n",
        "    comps = pca.fit_transform(X_scaled)\n",
        "    tsne = TSNE(n_components=2, random_state=42, init='pca', learning_rate='auto')\n",
        "    tsne2 = tsne.fit_transform(comps[:, :5])\n",
        "\n",
        "    # Visualization\n",
        "    plt.figure(figsize=(9, 6))\n",
        "    sns.scatterplot(\n",
        "        x=tsne2[:, 0],\n",
        "        y=tsne2[:, 1],\n",
        "        hue=km.labels_,\n",
        "        palette='tab10',\n",
        "        s=80,\n",
        "        edgecolor='black'\n",
        "    )\n",
        "    plt.title(\"t-SNE Clustering of Participants\", fontsize=14, pad=15)\n",
        "    plt.xlabel(\"t-SNE Dimension 1 (reduced feature space)\", fontsize=12)\n",
        "    plt.ylabel(\"t-SNE Dimension 2 (reduced feature space)\", fontsize=12)\n",
        "    plt.legend(title=\"Cluster Label\", loc=\"best\")\n",
        "    plt.grid(True, linestyle='--', alpha=0.4)\n",
        "    plt.tight_layout()\n",
        "    plt.show()\n",
        "\n",
        "print(\"\\n Clustering visualization complete — the X-axis and Y-axis represent two reduced t-SNE dimensions derived from multi-dimensional participant data.\")\n"
      ],
      "metadata": {
        "id": "-jVyMdpHnz_W"
      },
      "execution_count": null,
      "outputs": []
    },
    {
      "cell_type": "markdown",
      "source": [
        "### Comments"
      ],
      "metadata": {
        "id": "U7HDnOUsbZIN"
      }
    },
    {
      "cell_type": "markdown",
      "source": [
        "#### Trail 01"
      ],
      "metadata": {
        "id": "AdrjFqKQb_8k"
      }
    },
    {
      "cell_type": "markdown",
      "source": [
        "Clustering on shape: (135, 15)\n",
        "Chosen number of clusters (k): 2  |  Silhouette score: 0.719"
      ],
      "metadata": {
        "id": "_PvajhyTeUUU"
      }
    },
    {
      "cell_type": "markdown",
      "source": [
        "#### Trail 02 - merge ()"
      ],
      "metadata": {
        "id": "V4tUlnkCb9KH"
      }
    },
    {
      "cell_type": "markdown",
      "source": [
        "Clustering on shape: (684, 180)\n",
        "Chosen number of clusters (k): 2  |  Silhouette score: -0.086"
      ],
      "metadata": {
        "id": "ih9nI14scAtd"
      }
    },
    {
      "cell_type": "markdown",
      "source": [
        "# Expermenting Space:"
      ],
      "metadata": {
        "id": "9N4qTiQj0DX1"
      }
    },
    {
      "cell_type": "markdown",
      "source": [
        "## Casual Forest"
      ],
      "metadata": {
        "id": "bJ4q6y-r0Gwt"
      }
    },
    {
      "cell_type": "code",
      "source": [
        "pip install econml"
      ],
      "metadata": {
        "id": "T5Hy0zGv0WiI"
      },
      "execution_count": null,
      "outputs": []
    },
    {
      "cell_type": "code",
      "source": [
        "from sklearn.metrics import classification_report, confusion_matrix, accuracy_score\n",
        "from sklearn.linear_model import LogisticRegression\n",
        "from sklearn.ensemble import RandomForestClassifier\n",
        "from sklearn.model_selection import train_test_split\n",
        "import pandas as pd\n",
        "import numpy as np\n",
        "from scipy import stats\n",
        "import matplotlib.pyplot as plt\n",
        "import seaborn as sns\n",
        "\n",
        "# Define treatment\n",
        "reg_df['treatment'] = (reg_df['meditation_freq_days'] > 0).astype(int)\n",
        "\n",
        "# Create binary outcome for classification (improved vs not improved)\n",
        "reg_df['improved_binary'] = (reg_df['delta_score'] > 0).astype(int)\n",
        "\n",
        "print(\"=== TREATMENT ANALYSIS RESULTS ===\")\n",
        "print(f\"Total samples: {len(reg_df)}\")\n",
        "print(f\"Treatment group (meditation): {sum(reg_df['treatment'])} students\")\n",
        "print(f\"Control group (no meditation): {sum(1-reg_df['treatment'])} students\")\n",
        "\n",
        "print(\"\\n=== OUTCOME ANALYSIS ===\")\n",
        "print(\"Improvement by treatment group:\")\n",
        "improvement_by_treatment = pd.crosstab(reg_df['treatment'], reg_df['improved_binary'],\n",
        "                                     rownames=['Treatment'], colnames=['Improved'])\n",
        "print(improvement_by_treatment)\n",
        "\n",
        "# Calculate improvement rates\n",
        "treated_improved = reg_df[reg_df['treatment']==1]['improved_binary'].mean()\n",
        "control_improved = reg_df[reg_df['treatment']==0]['improved_binary'].mean()\n",
        "\n",
        "print(f\"\\nImprovement rate in treated group: {treated_improved:.3f} ({treated_improved*100:.1f}%)\")\n",
        "print(f\"Improvement rate in control group: {control_improved:.3f} ({control_improved*100:.1f}%)\")\n",
        "print(f\"Treatment effect (difference): {treated_improved - control_improved:.3f}\")\n",
        "\n",
        "# Statistical significance test\n",
        "from scipy.stats import chi2_contingency\n",
        "chi2, p_value, dof, expected = chi2_contingency(improvement_by_treatment)\n",
        "print(f\"Chi-square test p-value: {p_value:.3f}\")\n",
        "\n",
        "print(\"\\n=== CONTINUOUS OUTCOME ANALYSIS ===\")\n",
        "treated_scores = reg_df[reg_df['treatment']==1]['delta_score']\n",
        "control_scores = reg_df[reg_df['treatment']==0]['delta_score']\n",
        "\n",
        "print(f\"Mean change in treated group: {treated_scores.mean():.3f} (±{treated_scores.std():.3f})\")\n",
        "print(f\"Mean change in control group: {control_scores.mean():.3f} (±{control_scores.std():.3f})\")\n",
        "print(f\"Average Treatment Effect: {treated_scores.mean() - control_scores.mean():.3f}\")\n",
        "\n",
        "# T-test\n",
        "t_stat, t_p_value = stats.ttest_ind(treated_scores, control_scores)\n",
        "print(f\"T-test: t={t_stat:.3f}, p={t_p_value:.3f}\")\n",
        "\n",
        "print(\"\\n=== PREDICTIVE MODEL RESULTS ===\")\n",
        "# Features for prediction\n",
        "features = ['age', 'meditation_freq_days', 'meditation_dur_min', 'PRE_score']\n",
        "available_features = [col for col in features if col in reg_df.columns]\n",
        "\n",
        "X = reg_df[available_features]\n",
        "y_continuous = reg_df['delta_score']\n",
        "y_binary = reg_df['improved_binary']\n",
        "\n",
        "# Train-test split\n",
        "X_train, X_test, y_train_cont, y_test_cont, y_train_bin, y_test_bin = train_test_split(\n",
        "    X, y_continuous, y_binary, test_size=0.3, random_state=42\n",
        ")\n",
        "\n",
        "# Classification model for binary outcome\n",
        "clf = RandomForestClassifier(n_estimators=100, random_state=42)\n",
        "clf.fit(X_train, y_train_bin)\n",
        "y_pred_bin = clf.predict(X_test)\n",
        "\n",
        "# Classification results\n",
        "print(\"BINARY CLASSIFICATION RESULTS (Improved vs Not Improved):\")\n",
        "print(f\"Accuracy: {accuracy_score(y_test_bin, y_pred_bin):.3f}\")\n",
        "print(\"\\nConfusion Matrix:\")\n",
        "cm = confusion_matrix(y_test_bin, y_pred_bin)\n",
        "print(cm)\n",
        "\n",
        "print(\"\\nClassification Report:\")\n",
        "print(classification_report(y_test_bin, y_pred_bin,\n",
        "                          target_names=['Not Improved', 'Improved']))\n",
        "\n",
        "# Feature importance\n",
        "feature_importance = pd.DataFrame({\n",
        "    'feature': available_features,\n",
        "    'importance': clf.feature_importances_\n",
        "}).sort_values('importance', ascending=False)\n",
        "\n",
        "print(\"\\nFeature Importance:\")\n",
        "print(feature_importance)\n",
        "\n",
        "print(\"\\n=== REGRESSION MODEL RESULTS ===\")\n",
        "from sklearn.ensemble import RandomForestRegressor\n",
        "from sklearn.metrics import mean_squared_error, r2_score\n",
        "\n",
        "# Regression model for continuous outcome\n",
        "reg_model = RandomForestRegressor(n_estimators=100, random_state=42)\n",
        "reg_model.fit(X_train, y_train_cont)\n",
        "y_pred_cont = reg_model.predict(X_test)\n",
        "\n",
        "print(f\"R² Score: {r2_score(y_test_cont, y_pred_cont):.3f}\")\n",
        "print(f\"RMSE: {np.sqrt(mean_squared_error(y_test_cont, y_pred_cont)):.3f}\")\n",
        "\n",
        "print(\"\\n=== SUMMARY ===\")\n",
        "print(f\"• Sample size: {len(reg_df)} students\")\n",
        "print(f\"• Treatment effect on improvement rate: {(treated_improved - control_improved)*100:.1f} percentage points\")\n",
        "print(f\"• Treatment effect on stress scores: {treated_scores.mean() - control_scores.mean():.3f} points\")\n",
        "print(f\"• Statistical significance (binary): {'Yes' if p_value < 0.05 else 'No'} (p={p_value:.3f})\")\n",
        "print(f\"• Statistical significance (continuous): {'Yes' if t_p_value < 0.05 else 'No'} (p={t_p_value:.3f})\")\n",
        "print(f\"• Classification accuracy: {accuracy_score(y_test_bin, y_pred_bin)*100:.1f}%\")\n"
      ],
      "metadata": {
        "id": "BZcei_CZ0F7u"
      },
      "execution_count": null,
      "outputs": []
    },
    {
      "cell_type": "markdown",
      "source": [
        "### Comments"
      ],
      "metadata": {
        "id": "PqbQB2lGbhIu"
      }
    },
    {
      "cell_type": "markdown",
      "source": [
        "#### Trail 01"
      ],
      "metadata": {
        "id": "Q2fv7-bxbnwr"
      }
    },
    {
      "cell_type": "markdown",
      "source": [
        "=== TREATMENT ANALYSIS RESULTS ===\n",
        "Total samples: 186\n",
        "Treatment group (meditation): 131 students\n",
        "Control group (no meditation): 55 students\n",
        "\n",
        "=== OUTCOME ANALYSIS ===\n",
        "Improvement by treatment group:\n",
        "Improved    0   1\n",
        "Treatment        \n",
        "0          35  20\n",
        "1          87  44\n",
        "\n",
        "Improvement rate in treated group: 0.336 (33.6%)\n",
        "Improvement rate in control group: 0.364 (36.4%)\n",
        "Treatment effect (difference): -0.028\n",
        "Chi-square test p-value: 0.846\n",
        "\n",
        "=== CONTINUOUS OUTCOME ANALYSIS ===\n",
        "Mean change in treated group: -0.893 (±3.879)\n",
        "Mean change in control group: -0.073 (±3.214)\n",
        "Average Treatment Effect: -0.820\n",
        "T-test: t=-1.381, p=0.169\n",
        "\n",
        "=== PREDICTIVE MODEL RESULTS ===\n",
        "BINARY CLASSIFICATION RESULTS (Improved vs Not Improved):\n",
        "Accuracy: 0.732\n",
        "\n",
        "Confusion Matrix:\n",
        "[[31  7]\n",
        " [ 8 10]]\n",
        "\n",
        "Classification Report:\n",
        "              precision    recall  f1-score   support\n",
        "\n",
        "Not Improved       0.79      0.82      0.81        38\n",
        "    Improved       0.59      0.56      0.57        18\n",
        "\n",
        "    accuracy                           0.73        56\n",
        "   macro avg       0.69      0.69      0.69        56\n",
        "weighted avg       0.73      0.73      0.73        56\n",
        "\n",
        "\n",
        "Feature Importance:\n",
        "                feature  importance\n",
        "3             PRE_score    0.522451\n",
        "1  meditation_freq_days    0.199578\n",
        "0                   age    0.156110\n",
        "2    meditation_dur_min    0.121861\n",
        "\n",
        "=== REGRESSION MODEL RESULTS ===\n",
        "R² Score: -0.119\n",
        "RMSE: 3.680\n",
        "\n",
        "=== SUMMARY ===\n",
        "• Sample size: 186 students\n",
        "• Treatment effect on improvement rate: -2.8 percentage points\n",
        "• Treatment effect on stress scores: -0.820 points\n",
        "• Statistical significance (binary): No (p=0.846)\n",
        "• Statistical significance (continuous): No (p=0.169)\n",
        "• Classification accuracy: 73.2%"
      ],
      "metadata": {
        "id": "utwa0p02bklC"
      }
    },
    {
      "cell_type": "markdown",
      "source": [
        "#### Trail 02 - merge ()"
      ],
      "metadata": {
        "id": "uDUddKzCcGc6"
      }
    },
    {
      "cell_type": "markdown",
      "source": [
        "=== TREATMENT ANALYSIS RESULTS ===\n",
        "Total samples: 684\n",
        "Treatment group (meditation): 628 students\n",
        "Control group (no meditation): 56 students\n",
        "\n",
        "=== OUTCOME ANALYSIS ===\n",
        "Improvement by treatment group:\n",
        "Improved     0   1\n",
        "Treatment         \n",
        "0           37  19\n",
        "1          584  44\n",
        "\n",
        "Improvement rate in treated group: 0.070 (7.0%)\n",
        "Improvement rate in control group: 0.339 (33.9%)\n",
        "Treatment effect (difference): -0.269\n",
        "Chi-square test p-value: 0.000\n",
        "\n",
        "=== CONTINUOUS OUTCOME ANALYSIS ===\n",
        "Mean change in treated group: -0.186 (±1.803)\n",
        "Mean change in control group: -0.089 (±3.181)\n",
        "Average Treatment Effect: -0.097\n",
        "T-test: t=-0.357, p=0.722\n",
        "\n",
        "=== PREDICTIVE MODEL RESULTS ===\n",
        "BINARY CLASSIFICATION RESULTS (Improved vs Not Improved):\n",
        "Accuracy: 0.888\n",
        "\n",
        "Confusion Matrix:\n",
        "[[174   6]\n",
        " [ 17   9]]\n",
        "\n",
        "Classification Report:\n",
        "              precision    recall  f1-score   support\n",
        "\n",
        "Not Improved       0.91      0.97      0.94       180\n",
        "    Improved       0.60      0.35      0.44        26\n",
        "\n",
        "    accuracy                           0.89       206\n",
        "   macro avg       0.76      0.66      0.69       206\n",
        "weighted avg       0.87      0.89      0.88       206\n",
        "\n",
        "\n",
        "Feature Importance:\n",
        "                feature  importance\n",
        "3             PRE_score    0.587223\n",
        "1  meditation_freq_days    0.149437\n",
        "0                   age    0.135074\n",
        "2    meditation_dur_min    0.128266\n",
        "\n",
        "=== REGRESSION MODEL RESULTS ===\n",
        "R² Score: -0.410\n",
        "RMSE: 2.321\n",
        "\n",
        "=== SUMMARY ===\n",
        "• Sample size: 684 students\n",
        "• Treatment effect on improvement rate: -26.9 percentage points\n",
        "• Treatment effect on stress scores: -0.097 points\n",
        "• Statistical significance (binary): Yes (p=0.000)\n",
        "• Statistical significance (continuous): No (p=0.722)\n",
        "• Classification accuracy: 88.8%\n"
      ],
      "metadata": {
        "id": "1rXUSDsgcKR-"
      }
    },
    {
      "cell_type": "markdown",
      "source": [
        "| Visualization           | Purpose                                               |\n",
        "| ----------------------- | ----------------------------------------------------- |\n",
        "| Histogram (Δ Scores)    | See distribution of improvement by group              |\n",
        "| Boxplot                 | Compare median + variance between treated and control |\n",
        "| Heatmaps                | Visualize confusion matrix & group improvement rates  |\n",
        "| Feature importance plot | Understand which variables drive improvement          |\n",
        "| Scatter (Regression)    | Assess prediction accuracy for continuous outcomes    |\n",
        "| Residual plot           | Check model bias or error patterns                    |\n",
        "| Correlation matrix      | Identify inter-feature and outcome relationships      |\n",
        "| Summary table           | Quick glance of key statistical findings              |\n"
      ],
      "metadata": {
        "id": "yGkzozx5tCUv"
      }
    },
    {
      "cell_type": "markdown",
      "source": [
        "## Visualization & Metrics"
      ],
      "metadata": {
        "id": "l_8Dy0xQcNdV"
      }
    },
    {
      "cell_type": "code",
      "source": [
        "# ============================================\n",
        "# 📊 ADVANCED VISUALIZATION & METRICS SECTION\n",
        "# ============================================\n",
        "\n",
        "import matplotlib.pyplot as plt\n",
        "import seaborn as sns\n",
        "\n",
        "plt.style.use(\"seaborn-v0_8-whitegrid\")\n",
        "sns.set_palette(\"Set2\")\n",
        "\n",
        "# 1️⃣ Distribution of Δ Scores (Before vs After)\n",
        "plt.figure(figsize=(8,5))\n",
        "sns.histplot(treated_scores, kde=True, color='green', label='Treated', bins=20)\n",
        "sns.histplot(control_scores, kde=True, color='orange', label='Control', bins=20)\n",
        "plt.title(\"Distribution of Δ (Delta) Scores by Treatment Group\")\n",
        "plt.xlabel(\"Change in Score (Δ)\")\n",
        "plt.ylabel(\"Frequency\")\n",
        "plt.legend()\n",
        "plt.show()\n",
        "\n",
        "# 2️⃣ Boxplot for Comparison\n",
        "plt.figure(figsize=(6,5))\n",
        "sns.boxplot(data=reg_df, x='treatment', y='delta_score', palette=['orange','green'])\n",
        "plt.title(\"Treatment vs Change in Score (Δ)\")\n",
        "plt.xticks([0,1], ['Control (No Meditation)', 'Treated (Meditation)'])\n",
        "plt.xlabel(\"Group\")\n",
        "plt.ylabel(\"Change in Score (Δ)\")\n",
        "plt.show()\n",
        "\n",
        "# 3️⃣ Improvement Rate Heatmap\n",
        "plt.figure(figsize=(4,3))\n",
        "sns.heatmap(improvement_by_treatment, annot=True, fmt='d', cmap='YlGnBu')\n",
        "plt.title(\"Improvement Counts (Treated vs Control)\")\n",
        "plt.show()\n",
        "\n",
        "# 4️⃣ Confusion Matrix Heatmap\n",
        "plt.figure(figsize=(5,4))\n",
        "sns.heatmap(cm, annot=True, fmt='d', cmap='Blues',\n",
        "            xticklabels=['Pred: Not Improved', 'Pred: Improved'],\n",
        "            yticklabels=['Actual: Not Improved', 'Actual: Improved'])\n",
        "plt.title(\"Confusion Matrix (Binary Classification)\")\n",
        "plt.ylabel(\"True Label\")\n",
        "plt.xlabel(\"Predicted Label\")\n",
        "plt.show()\n",
        "\n",
        "# 5️⃣ Feature Importance Barplot\n",
        "plt.figure(figsize=(7,4))\n",
        "sns.barplot(x='importance', y='feature', data=feature_importance, palette='viridis')\n",
        "plt.title(\"Feature Importance (Random Forest Classifier)\")\n",
        "plt.xlabel(\"Importance Score\")\n",
        "plt.ylabel(\"Feature\")\n",
        "plt.show()\n",
        "\n",
        "# 6️⃣ Regression Model: Predicted vs Actual\n",
        "plt.figure(figsize=(6,5))\n",
        "sns.scatterplot(x=y_test_cont, y=y_pred_cont, color='purple')\n",
        "plt.plot([y_test_cont.min(), y_test_cont.max()],\n",
        "         [y_test_cont.min(), y_test_cont.max()],\n",
        "         color='red', linestyle='--')\n",
        "plt.title(\"Regression Model: Predicted vs Actual Δ Scores\")\n",
        "plt.xlabel(\"Actual Δ Score\")\n",
        "plt.ylabel(\"Predicted Δ Score\")\n",
        "plt.show()\n",
        "\n",
        "# 7️⃣ Residual Plot for Regression\n",
        "residuals = y_test_cont - y_pred_cont\n",
        "plt.figure(figsize=(6,4))\n",
        "sns.histplot(residuals, kde=True, color='salmon')\n",
        "plt.title(\"Residual Distribution (Regression Model)\")\n",
        "plt.xlabel(\"Residuals (Actual - Predicted)\")\n",
        "plt.ylabel(\"Frequency\")\n",
        "plt.show()\n",
        "\n",
        "# 8️⃣ Correlation Matrix for All Numeric Features\n",
        "plt.figure(figsize=(8,6))\n",
        "corr = reg_df[available_features + ['delta_score', 'improved_binary']].corr()\n",
        "sns.heatmap(corr, annot=True, cmap='coolwarm', fmt='.2f')\n",
        "plt.title(\"Correlation Matrix: Features vs Outcomes\")\n",
        "plt.show()\n",
        "\n",
        "# 9️⃣ Summary Table of Key Statistics\n",
        "summary_table = pd.DataFrame({\n",
        "    'Metric': [\n",
        "        'Treated Improvement Rate',\n",
        "        'Control Improvement Rate',\n",
        "        'Binary Treatment Effect (%)',\n",
        "        'Continuous Treatment Effect (Δ)',\n",
        "        'Chi-Square p-value',\n",
        "        'T-Test p-value',\n",
        "        'Classification Accuracy (%)',\n",
        "        'Regression R²',\n",
        "        'Regression RMSE'\n",
        "    ],\n",
        "    'Value': [\n",
        "        f\"{treated_improved*100:.2f}%\",\n",
        "        f\"{control_improved*100:.2f}%\",\n",
        "        f\"{(treated_improved - control_improved)*100:.2f}\",\n",
        "        f\"{treated_scores.mean() - control_scores.mean():.3f}\",\n",
        "        f\"{p_value:.3f}\",\n",
        "        f\"{t_p_value:.3f}\",\n",
        "        f\"{accuracy_score(y_test_bin, y_pred_bin)*100:.1f}%\",\n",
        "        f\"{r2_score(y_test_cont, y_pred_cont):.3f}\",\n",
        "        f\"{np.sqrt(mean_squared_error(y_test_cont, y_pred_cont)):.3f}\"\n",
        "    ]\n",
        "})\n",
        "print(\"\\n=== SUMMARY TABLE OF KEY METRICS ===\")\n",
        "print(summary_table.to_string(index=False))\n"
      ],
      "metadata": {
        "id": "yuy-CSLcs-2p"
      },
      "execution_count": null,
      "outputs": []
    },
    {
      "cell_type": "markdown",
      "source": [
        "## Comment"
      ],
      "metadata": {
        "id": "CAEDUBQscSfe"
      }
    },
    {
      "cell_type": "markdown",
      "source": [
        "#### Trail 02 - merge ()"
      ],
      "metadata": {
        "id": "pJvwo2nVcUwy"
      }
    },
    {
      "cell_type": "markdown",
      "source": [
        "=== SUMMARY TABLE OF KEY METRICS ===\n",
        "                         Metric  Value\n",
        "       Treated Improvement Rate  7.01%\n",
        "       Control Improvement Rate 33.93%\n",
        "    Binary Treatment Effect (%) -26.92\n",
        "Continuous Treatment Effect (Δ) -0.097\n",
        "             Chi-Square p-value  0.000\n",
        "                 T-Test p-value  0.722\n",
        "    Classification Accuracy (%)  88.8%\n",
        "                  Regression R² -0.410\n",
        "                Regression RMSE  2.321"
      ],
      "metadata": {
        "id": "FriE7iZmcWtB"
      }
    },
    {
      "cell_type": "code",
      "source": [
        "print(\"\\n=== INTERPRETATION ===\")\n",
        "if treated_improved > control_improved:\n",
        "    print(f\"✅ Students who meditated were {((treated_improved - control_improved)*100):.1f}% more likely to improve.\")\n",
        "else:\n",
        "    print(f\"⚠️ No clear improvement observed among meditation group.\")\n",
        "\n",
        "if p_value < 0.05:\n",
        "    print(\"📊 Binary outcome difference is statistically significant.\")\n",
        "else:\n",
        "    print(\"ℹ️ Binary outcome difference is not statistically significant.\")\n",
        "\n",
        "if t_p_value < 0.05:\n",
        "    print(\"📊 Continuous score difference is statistically significant.\")\n",
        "else:\n",
        "    print(\"ℹ️ Continuous score difference is not statistically significant.\")\n",
        "\n",
        "print(f\"🎯 Model achieved {accuracy_score(y_test_bin, y_pred_bin)*100:.1f}% accuracy in predicting improvement.\")\n"
      ],
      "metadata": {
        "id": "DIqibDBWtKJR"
      },
      "execution_count": null,
      "outputs": []
    },
    {
      "cell_type": "markdown",
      "source": [
        "## Comment"
      ],
      "metadata": {
        "id": "7iRSweXWc5tH"
      }
    },
    {
      "cell_type": "markdown",
      "source": [
        "#### Trail 02 - merge ()"
      ],
      "metadata": {
        "id": "cKhqpfs5c8IV"
      }
    },
    {
      "cell_type": "markdown",
      "source": [
        "\n",
        "=== INTERPRETATION ===\n",
        "⚠️ No clear improvement observed among meditation group.\n",
        "📊 Binary outcome difference is statistically significant.\n",
        "ℹ️ Continuous score difference is not statistically significant.\n",
        "🎯 Model achieved 88.8% accuracy in predicting improvement."
      ],
      "metadata": {
        "id": "7lHUmmBZdE97"
      }
    },
    {
      "cell_type": "code",
      "source": [],
      "metadata": {
        "id": "rQt_UJuk62-J"
      },
      "execution_count": null,
      "outputs": []
    }
  ]
}